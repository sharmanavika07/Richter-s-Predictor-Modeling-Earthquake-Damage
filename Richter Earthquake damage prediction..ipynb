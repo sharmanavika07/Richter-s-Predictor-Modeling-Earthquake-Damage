{
 "cells": [
  {
   "cell_type": "code",
   "execution_count": 1,
   "metadata": {},
   "outputs": [],
   "source": [
    "import numpy as np\n",
    "import pandas as pd\n",
    "import seaborn as sns\n",
    "import matplotlib.pyplot as plt"
   ]
  },
  {
   "cell_type": "code",
   "execution_count": 2,
   "metadata": {},
   "outputs": [],
   "source": [
    "train = pd.read_csv(r\"D:\\GreatLearning\\richters-predictor-modeling-earthquake-damage\\train_values.csv\")"
   ]
  },
  {
   "cell_type": "code",
   "execution_count": 3,
   "metadata": {},
   "outputs": [],
   "source": [
    "test = pd.read_csv(r\"D:\\GreatLearning\\richters-predictor-modeling-earthquake-damage\\test_values.csv\")"
   ]
  },
  {
   "cell_type": "code",
   "execution_count": 4,
   "metadata": {},
   "outputs": [],
   "source": [
    "data = pd.concat([train,test],sort = False, ignore_index=True)"
   ]
  },
  {
   "cell_type": "code",
   "execution_count": 5,
   "metadata": {},
   "outputs": [
    {
     "data": {
      "text/plain": [
       "(260601, 39)"
      ]
     },
     "execution_count": 5,
     "metadata": {},
     "output_type": "execute_result"
    }
   ],
   "source": [
    "train.shape"
   ]
  },
  {
   "cell_type": "code",
   "execution_count": 6,
   "metadata": {},
   "outputs": [
    {
     "data": {
      "text/plain": [
       "(86868, 39)"
      ]
     },
     "execution_count": 6,
     "metadata": {},
     "output_type": "execute_result"
    }
   ],
   "source": [
    "test.shape"
   ]
  },
  {
   "cell_type": "code",
   "execution_count": 7,
   "metadata": {},
   "outputs": [
    {
     "data": {
      "text/html": [
       "<div>\n",
       "<style scoped>\n",
       "    .dataframe tbody tr th:only-of-type {\n",
       "        vertical-align: middle;\n",
       "    }\n",
       "\n",
       "    .dataframe tbody tr th {\n",
       "        vertical-align: top;\n",
       "    }\n",
       "\n",
       "    .dataframe thead th {\n",
       "        text-align: right;\n",
       "    }\n",
       "</style>\n",
       "<table border=\"1\" class=\"dataframe\">\n",
       "  <thead>\n",
       "    <tr style=\"text-align: right;\">\n",
       "      <th></th>\n",
       "      <th>building_id</th>\n",
       "      <th>geo_level_1_id</th>\n",
       "      <th>geo_level_2_id</th>\n",
       "      <th>geo_level_3_id</th>\n",
       "      <th>count_floors_pre_eq</th>\n",
       "      <th>age</th>\n",
       "      <th>area_percentage</th>\n",
       "      <th>height_percentage</th>\n",
       "      <th>land_surface_condition</th>\n",
       "      <th>foundation_type</th>\n",
       "      <th>...</th>\n",
       "      <th>has_secondary_use_agriculture</th>\n",
       "      <th>has_secondary_use_hotel</th>\n",
       "      <th>has_secondary_use_rental</th>\n",
       "      <th>has_secondary_use_institution</th>\n",
       "      <th>has_secondary_use_school</th>\n",
       "      <th>has_secondary_use_industry</th>\n",
       "      <th>has_secondary_use_health_post</th>\n",
       "      <th>has_secondary_use_gov_office</th>\n",
       "      <th>has_secondary_use_use_police</th>\n",
       "      <th>has_secondary_use_other</th>\n",
       "    </tr>\n",
       "  </thead>\n",
       "  <tbody>\n",
       "    <tr>\n",
       "      <th>0</th>\n",
       "      <td>802906</td>\n",
       "      <td>6</td>\n",
       "      <td>487</td>\n",
       "      <td>12198</td>\n",
       "      <td>2</td>\n",
       "      <td>30</td>\n",
       "      <td>6</td>\n",
       "      <td>5</td>\n",
       "      <td>t</td>\n",
       "      <td>r</td>\n",
       "      <td>...</td>\n",
       "      <td>0</td>\n",
       "      <td>0</td>\n",
       "      <td>0</td>\n",
       "      <td>0</td>\n",
       "      <td>0</td>\n",
       "      <td>0</td>\n",
       "      <td>0</td>\n",
       "      <td>0</td>\n",
       "      <td>0</td>\n",
       "      <td>0</td>\n",
       "    </tr>\n",
       "    <tr>\n",
       "      <th>1</th>\n",
       "      <td>28830</td>\n",
       "      <td>8</td>\n",
       "      <td>900</td>\n",
       "      <td>2812</td>\n",
       "      <td>2</td>\n",
       "      <td>10</td>\n",
       "      <td>8</td>\n",
       "      <td>7</td>\n",
       "      <td>o</td>\n",
       "      <td>r</td>\n",
       "      <td>...</td>\n",
       "      <td>0</td>\n",
       "      <td>0</td>\n",
       "      <td>0</td>\n",
       "      <td>0</td>\n",
       "      <td>0</td>\n",
       "      <td>0</td>\n",
       "      <td>0</td>\n",
       "      <td>0</td>\n",
       "      <td>0</td>\n",
       "      <td>0</td>\n",
       "    </tr>\n",
       "    <tr>\n",
       "      <th>2</th>\n",
       "      <td>94947</td>\n",
       "      <td>21</td>\n",
       "      <td>363</td>\n",
       "      <td>8973</td>\n",
       "      <td>2</td>\n",
       "      <td>10</td>\n",
       "      <td>5</td>\n",
       "      <td>5</td>\n",
       "      <td>t</td>\n",
       "      <td>r</td>\n",
       "      <td>...</td>\n",
       "      <td>0</td>\n",
       "      <td>0</td>\n",
       "      <td>0</td>\n",
       "      <td>0</td>\n",
       "      <td>0</td>\n",
       "      <td>0</td>\n",
       "      <td>0</td>\n",
       "      <td>0</td>\n",
       "      <td>0</td>\n",
       "      <td>0</td>\n",
       "    </tr>\n",
       "    <tr>\n",
       "      <th>3</th>\n",
       "      <td>590882</td>\n",
       "      <td>22</td>\n",
       "      <td>418</td>\n",
       "      <td>10694</td>\n",
       "      <td>2</td>\n",
       "      <td>10</td>\n",
       "      <td>6</td>\n",
       "      <td>5</td>\n",
       "      <td>t</td>\n",
       "      <td>r</td>\n",
       "      <td>...</td>\n",
       "      <td>0</td>\n",
       "      <td>0</td>\n",
       "      <td>0</td>\n",
       "      <td>0</td>\n",
       "      <td>0</td>\n",
       "      <td>0</td>\n",
       "      <td>0</td>\n",
       "      <td>0</td>\n",
       "      <td>0</td>\n",
       "      <td>0</td>\n",
       "    </tr>\n",
       "    <tr>\n",
       "      <th>4</th>\n",
       "      <td>201944</td>\n",
       "      <td>11</td>\n",
       "      <td>131</td>\n",
       "      <td>1488</td>\n",
       "      <td>3</td>\n",
       "      <td>30</td>\n",
       "      <td>8</td>\n",
       "      <td>9</td>\n",
       "      <td>t</td>\n",
       "      <td>r</td>\n",
       "      <td>...</td>\n",
       "      <td>0</td>\n",
       "      <td>0</td>\n",
       "      <td>0</td>\n",
       "      <td>0</td>\n",
       "      <td>0</td>\n",
       "      <td>0</td>\n",
       "      <td>0</td>\n",
       "      <td>0</td>\n",
       "      <td>0</td>\n",
       "      <td>0</td>\n",
       "    </tr>\n",
       "  </tbody>\n",
       "</table>\n",
       "<p>5 rows × 39 columns</p>\n",
       "</div>"
      ],
      "text/plain": [
       "   building_id  geo_level_1_id  geo_level_2_id  geo_level_3_id  \\\n",
       "0       802906               6             487           12198   \n",
       "1        28830               8             900            2812   \n",
       "2        94947              21             363            8973   \n",
       "3       590882              22             418           10694   \n",
       "4       201944              11             131            1488   \n",
       "\n",
       "   count_floors_pre_eq  age  area_percentage  height_percentage  \\\n",
       "0                    2   30                6                  5   \n",
       "1                    2   10                8                  7   \n",
       "2                    2   10                5                  5   \n",
       "3                    2   10                6                  5   \n",
       "4                    3   30                8                  9   \n",
       "\n",
       "  land_surface_condition foundation_type  ... has_secondary_use_agriculture  \\\n",
       "0                      t               r  ...                             0   \n",
       "1                      o               r  ...                             0   \n",
       "2                      t               r  ...                             0   \n",
       "3                      t               r  ...                             0   \n",
       "4                      t               r  ...                             0   \n",
       "\n",
       "  has_secondary_use_hotel has_secondary_use_rental  \\\n",
       "0                       0                        0   \n",
       "1                       0                        0   \n",
       "2                       0                        0   \n",
       "3                       0                        0   \n",
       "4                       0                        0   \n",
       "\n",
       "  has_secondary_use_institution has_secondary_use_school  \\\n",
       "0                             0                        0   \n",
       "1                             0                        0   \n",
       "2                             0                        0   \n",
       "3                             0                        0   \n",
       "4                             0                        0   \n",
       "\n",
       "   has_secondary_use_industry  has_secondary_use_health_post  \\\n",
       "0                           0                              0   \n",
       "1                           0                              0   \n",
       "2                           0                              0   \n",
       "3                           0                              0   \n",
       "4                           0                              0   \n",
       "\n",
       "   has_secondary_use_gov_office  has_secondary_use_use_police  \\\n",
       "0                             0                             0   \n",
       "1                             0                             0   \n",
       "2                             0                             0   \n",
       "3                             0                             0   \n",
       "4                             0                             0   \n",
       "\n",
       "   has_secondary_use_other  \n",
       "0                        0  \n",
       "1                        0  \n",
       "2                        0  \n",
       "3                        0  \n",
       "4                        0  \n",
       "\n",
       "[5 rows x 39 columns]"
      ]
     },
     "execution_count": 7,
     "metadata": {},
     "output_type": "execute_result"
    }
   ],
   "source": [
    "data.head()"
   ]
  },
  {
   "cell_type": "code",
   "execution_count": 8,
   "metadata": {},
   "outputs": [
    {
     "data": {
      "text/plain": [
       "Index(['building_id', 'geo_level_1_id', 'geo_level_2_id', 'geo_level_3_id',\n",
       "       'count_floors_pre_eq', 'age', 'area_percentage', 'height_percentage',\n",
       "       'land_surface_condition', 'foundation_type', 'roof_type',\n",
       "       'ground_floor_type', 'other_floor_type', 'position',\n",
       "       'plan_configuration', 'has_superstructure_adobe_mud',\n",
       "       'has_superstructure_mud_mortar_stone', 'has_superstructure_stone_flag',\n",
       "       'has_superstructure_cement_mortar_stone',\n",
       "       'has_superstructure_mud_mortar_brick',\n",
       "       'has_superstructure_cement_mortar_brick', 'has_superstructure_timber',\n",
       "       'has_superstructure_bamboo', 'has_superstructure_rc_non_engineered',\n",
       "       'has_superstructure_rc_engineered', 'has_superstructure_other',\n",
       "       'legal_ownership_status', 'count_families', 'has_secondary_use',\n",
       "       'has_secondary_use_agriculture', 'has_secondary_use_hotel',\n",
       "       'has_secondary_use_rental', 'has_secondary_use_institution',\n",
       "       'has_secondary_use_school', 'has_secondary_use_industry',\n",
       "       'has_secondary_use_health_post', 'has_secondary_use_gov_office',\n",
       "       'has_secondary_use_use_police', 'has_secondary_use_other'],\n",
       "      dtype='object')"
      ]
     },
     "execution_count": 8,
     "metadata": {},
     "output_type": "execute_result"
    }
   ],
   "source": [
    "train.columns"
   ]
  },
  {
   "cell_type": "code",
   "execution_count": 9,
   "metadata": {},
   "outputs": [],
   "source": [
    "data_lab = pd.read_csv(r\"D:\\GreatLearning\\richters-predictor-modeling-earthquake-damage\\train_labels.csv\")"
   ]
  },
  {
   "cell_type": "code",
   "execution_count": 10,
   "metadata": {},
   "outputs": [],
   "source": [
    "data_lab.damage_grade = data_lab.damage_grade.astype('int64')\n",
    "train['damage_grade'] = data_lab.damage_grade\n",
    "data['damage_grade']  = data_lab.damage_grade"
   ]
  },
  {
   "cell_type": "code",
   "execution_count": 11,
   "metadata": {},
   "outputs": [
    {
     "data": {
      "text/html": [
       "<div>\n",
       "<style scoped>\n",
       "    .dataframe tbody tr th:only-of-type {\n",
       "        vertical-align: middle;\n",
       "    }\n",
       "\n",
       "    .dataframe tbody tr th {\n",
       "        vertical-align: top;\n",
       "    }\n",
       "\n",
       "    .dataframe thead th {\n",
       "        text-align: right;\n",
       "    }\n",
       "</style>\n",
       "<table border=\"1\" class=\"dataframe\">\n",
       "  <thead>\n",
       "    <tr style=\"text-align: right;\">\n",
       "      <th></th>\n",
       "      <th>building_id</th>\n",
       "      <th>geo_level_1_id</th>\n",
       "      <th>geo_level_2_id</th>\n",
       "      <th>geo_level_3_id</th>\n",
       "      <th>count_floors_pre_eq</th>\n",
       "      <th>age</th>\n",
       "      <th>area_percentage</th>\n",
       "      <th>height_percentage</th>\n",
       "      <th>land_surface_condition</th>\n",
       "      <th>foundation_type</th>\n",
       "      <th>...</th>\n",
       "      <th>has_secondary_use_hotel</th>\n",
       "      <th>has_secondary_use_rental</th>\n",
       "      <th>has_secondary_use_institution</th>\n",
       "      <th>has_secondary_use_school</th>\n",
       "      <th>has_secondary_use_industry</th>\n",
       "      <th>has_secondary_use_health_post</th>\n",
       "      <th>has_secondary_use_gov_office</th>\n",
       "      <th>has_secondary_use_use_police</th>\n",
       "      <th>has_secondary_use_other</th>\n",
       "      <th>damage_grade</th>\n",
       "    </tr>\n",
       "  </thead>\n",
       "  <tbody>\n",
       "    <tr>\n",
       "      <th>0</th>\n",
       "      <td>802906</td>\n",
       "      <td>6</td>\n",
       "      <td>487</td>\n",
       "      <td>12198</td>\n",
       "      <td>2</td>\n",
       "      <td>30</td>\n",
       "      <td>6</td>\n",
       "      <td>5</td>\n",
       "      <td>t</td>\n",
       "      <td>r</td>\n",
       "      <td>...</td>\n",
       "      <td>0</td>\n",
       "      <td>0</td>\n",
       "      <td>0</td>\n",
       "      <td>0</td>\n",
       "      <td>0</td>\n",
       "      <td>0</td>\n",
       "      <td>0</td>\n",
       "      <td>0</td>\n",
       "      <td>0</td>\n",
       "      <td>3</td>\n",
       "    </tr>\n",
       "    <tr>\n",
       "      <th>1</th>\n",
       "      <td>28830</td>\n",
       "      <td>8</td>\n",
       "      <td>900</td>\n",
       "      <td>2812</td>\n",
       "      <td>2</td>\n",
       "      <td>10</td>\n",
       "      <td>8</td>\n",
       "      <td>7</td>\n",
       "      <td>o</td>\n",
       "      <td>r</td>\n",
       "      <td>...</td>\n",
       "      <td>0</td>\n",
       "      <td>0</td>\n",
       "      <td>0</td>\n",
       "      <td>0</td>\n",
       "      <td>0</td>\n",
       "      <td>0</td>\n",
       "      <td>0</td>\n",
       "      <td>0</td>\n",
       "      <td>0</td>\n",
       "      <td>2</td>\n",
       "    </tr>\n",
       "    <tr>\n",
       "      <th>2</th>\n",
       "      <td>94947</td>\n",
       "      <td>21</td>\n",
       "      <td>363</td>\n",
       "      <td>8973</td>\n",
       "      <td>2</td>\n",
       "      <td>10</td>\n",
       "      <td>5</td>\n",
       "      <td>5</td>\n",
       "      <td>t</td>\n",
       "      <td>r</td>\n",
       "      <td>...</td>\n",
       "      <td>0</td>\n",
       "      <td>0</td>\n",
       "      <td>0</td>\n",
       "      <td>0</td>\n",
       "      <td>0</td>\n",
       "      <td>0</td>\n",
       "      <td>0</td>\n",
       "      <td>0</td>\n",
       "      <td>0</td>\n",
       "      <td>3</td>\n",
       "    </tr>\n",
       "    <tr>\n",
       "      <th>3</th>\n",
       "      <td>590882</td>\n",
       "      <td>22</td>\n",
       "      <td>418</td>\n",
       "      <td>10694</td>\n",
       "      <td>2</td>\n",
       "      <td>10</td>\n",
       "      <td>6</td>\n",
       "      <td>5</td>\n",
       "      <td>t</td>\n",
       "      <td>r</td>\n",
       "      <td>...</td>\n",
       "      <td>0</td>\n",
       "      <td>0</td>\n",
       "      <td>0</td>\n",
       "      <td>0</td>\n",
       "      <td>0</td>\n",
       "      <td>0</td>\n",
       "      <td>0</td>\n",
       "      <td>0</td>\n",
       "      <td>0</td>\n",
       "      <td>2</td>\n",
       "    </tr>\n",
       "    <tr>\n",
       "      <th>4</th>\n",
       "      <td>201944</td>\n",
       "      <td>11</td>\n",
       "      <td>131</td>\n",
       "      <td>1488</td>\n",
       "      <td>3</td>\n",
       "      <td>30</td>\n",
       "      <td>8</td>\n",
       "      <td>9</td>\n",
       "      <td>t</td>\n",
       "      <td>r</td>\n",
       "      <td>...</td>\n",
       "      <td>0</td>\n",
       "      <td>0</td>\n",
       "      <td>0</td>\n",
       "      <td>0</td>\n",
       "      <td>0</td>\n",
       "      <td>0</td>\n",
       "      <td>0</td>\n",
       "      <td>0</td>\n",
       "      <td>0</td>\n",
       "      <td>3</td>\n",
       "    </tr>\n",
       "  </tbody>\n",
       "</table>\n",
       "<p>5 rows × 40 columns</p>\n",
       "</div>"
      ],
      "text/plain": [
       "   building_id  geo_level_1_id  geo_level_2_id  geo_level_3_id  \\\n",
       "0       802906               6             487           12198   \n",
       "1        28830               8             900            2812   \n",
       "2        94947              21             363            8973   \n",
       "3       590882              22             418           10694   \n",
       "4       201944              11             131            1488   \n",
       "\n",
       "   count_floors_pre_eq  age  area_percentage  height_percentage  \\\n",
       "0                    2   30                6                  5   \n",
       "1                    2   10                8                  7   \n",
       "2                    2   10                5                  5   \n",
       "3                    2   10                6                  5   \n",
       "4                    3   30                8                  9   \n",
       "\n",
       "  land_surface_condition foundation_type  ... has_secondary_use_hotel  \\\n",
       "0                      t               r  ...                       0   \n",
       "1                      o               r  ...                       0   \n",
       "2                      t               r  ...                       0   \n",
       "3                      t               r  ...                       0   \n",
       "4                      t               r  ...                       0   \n",
       "\n",
       "  has_secondary_use_rental has_secondary_use_institution  \\\n",
       "0                        0                             0   \n",
       "1                        0                             0   \n",
       "2                        0                             0   \n",
       "3                        0                             0   \n",
       "4                        0                             0   \n",
       "\n",
       "  has_secondary_use_school has_secondary_use_industry  \\\n",
       "0                        0                          0   \n",
       "1                        0                          0   \n",
       "2                        0                          0   \n",
       "3                        0                          0   \n",
       "4                        0                          0   \n",
       "\n",
       "   has_secondary_use_health_post  has_secondary_use_gov_office  \\\n",
       "0                              0                             0   \n",
       "1                              0                             0   \n",
       "2                              0                             0   \n",
       "3                              0                             0   \n",
       "4                              0                             0   \n",
       "\n",
       "   has_secondary_use_use_police  has_secondary_use_other  damage_grade  \n",
       "0                             0                        0             3  \n",
       "1                             0                        0             2  \n",
       "2                             0                        0             3  \n",
       "3                             0                        0             2  \n",
       "4                             0                        0             3  \n",
       "\n",
       "[5 rows x 40 columns]"
      ]
     },
     "execution_count": 11,
     "metadata": {},
     "output_type": "execute_result"
    }
   ],
   "source": [
    "train.head()"
   ]
  },
  {
   "cell_type": "code",
   "execution_count": 12,
   "metadata": {},
   "outputs": [],
   "source": [
    "#----------------"
   ]
  },
  {
   "cell_type": "code",
   "execution_count": 13,
   "metadata": {},
   "outputs": [],
   "source": [
    "train['damage_grade'] = train['damage_grade'].astype('int64')"
   ]
  },
  {
   "cell_type": "code",
   "execution_count": 14,
   "metadata": {},
   "outputs": [
    {
     "data": {
      "text/html": [
       "<div>\n",
       "<style scoped>\n",
       "    .dataframe tbody tr th:only-of-type {\n",
       "        vertical-align: middle;\n",
       "    }\n",
       "\n",
       "    .dataframe tbody tr th {\n",
       "        vertical-align: top;\n",
       "    }\n",
       "\n",
       "    .dataframe thead th {\n",
       "        text-align: right;\n",
       "    }\n",
       "</style>\n",
       "<table border=\"1\" class=\"dataframe\">\n",
       "  <thead>\n",
       "    <tr style=\"text-align: right;\">\n",
       "      <th></th>\n",
       "      <th>building_id</th>\n",
       "      <th>geo_level_1_id</th>\n",
       "      <th>geo_level_2_id</th>\n",
       "      <th>geo_level_3_id</th>\n",
       "      <th>count_floors_pre_eq</th>\n",
       "      <th>age</th>\n",
       "      <th>area_percentage</th>\n",
       "      <th>height_percentage</th>\n",
       "      <th>land_surface_condition</th>\n",
       "      <th>foundation_type</th>\n",
       "      <th>...</th>\n",
       "      <th>has_secondary_use_hotel</th>\n",
       "      <th>has_secondary_use_rental</th>\n",
       "      <th>has_secondary_use_institution</th>\n",
       "      <th>has_secondary_use_school</th>\n",
       "      <th>has_secondary_use_industry</th>\n",
       "      <th>has_secondary_use_health_post</th>\n",
       "      <th>has_secondary_use_gov_office</th>\n",
       "      <th>has_secondary_use_use_police</th>\n",
       "      <th>has_secondary_use_other</th>\n",
       "      <th>damage_grade</th>\n",
       "    </tr>\n",
       "  </thead>\n",
       "  <tbody>\n",
       "    <tr>\n",
       "      <th>0</th>\n",
       "      <td>802906</td>\n",
       "      <td>6</td>\n",
       "      <td>487</td>\n",
       "      <td>12198</td>\n",
       "      <td>2</td>\n",
       "      <td>30</td>\n",
       "      <td>6</td>\n",
       "      <td>5</td>\n",
       "      <td>t</td>\n",
       "      <td>r</td>\n",
       "      <td>...</td>\n",
       "      <td>0</td>\n",
       "      <td>0</td>\n",
       "      <td>0</td>\n",
       "      <td>0</td>\n",
       "      <td>0</td>\n",
       "      <td>0</td>\n",
       "      <td>0</td>\n",
       "      <td>0</td>\n",
       "      <td>0</td>\n",
       "      <td>3.0</td>\n",
       "    </tr>\n",
       "    <tr>\n",
       "      <th>1</th>\n",
       "      <td>28830</td>\n",
       "      <td>8</td>\n",
       "      <td>900</td>\n",
       "      <td>2812</td>\n",
       "      <td>2</td>\n",
       "      <td>10</td>\n",
       "      <td>8</td>\n",
       "      <td>7</td>\n",
       "      <td>o</td>\n",
       "      <td>r</td>\n",
       "      <td>...</td>\n",
       "      <td>0</td>\n",
       "      <td>0</td>\n",
       "      <td>0</td>\n",
       "      <td>0</td>\n",
       "      <td>0</td>\n",
       "      <td>0</td>\n",
       "      <td>0</td>\n",
       "      <td>0</td>\n",
       "      <td>0</td>\n",
       "      <td>2.0</td>\n",
       "    </tr>\n",
       "    <tr>\n",
       "      <th>2</th>\n",
       "      <td>94947</td>\n",
       "      <td>21</td>\n",
       "      <td>363</td>\n",
       "      <td>8973</td>\n",
       "      <td>2</td>\n",
       "      <td>10</td>\n",
       "      <td>5</td>\n",
       "      <td>5</td>\n",
       "      <td>t</td>\n",
       "      <td>r</td>\n",
       "      <td>...</td>\n",
       "      <td>0</td>\n",
       "      <td>0</td>\n",
       "      <td>0</td>\n",
       "      <td>0</td>\n",
       "      <td>0</td>\n",
       "      <td>0</td>\n",
       "      <td>0</td>\n",
       "      <td>0</td>\n",
       "      <td>0</td>\n",
       "      <td>3.0</td>\n",
       "    </tr>\n",
       "    <tr>\n",
       "      <th>3</th>\n",
       "      <td>590882</td>\n",
       "      <td>22</td>\n",
       "      <td>418</td>\n",
       "      <td>10694</td>\n",
       "      <td>2</td>\n",
       "      <td>10</td>\n",
       "      <td>6</td>\n",
       "      <td>5</td>\n",
       "      <td>t</td>\n",
       "      <td>r</td>\n",
       "      <td>...</td>\n",
       "      <td>0</td>\n",
       "      <td>0</td>\n",
       "      <td>0</td>\n",
       "      <td>0</td>\n",
       "      <td>0</td>\n",
       "      <td>0</td>\n",
       "      <td>0</td>\n",
       "      <td>0</td>\n",
       "      <td>0</td>\n",
       "      <td>2.0</td>\n",
       "    </tr>\n",
       "    <tr>\n",
       "      <th>4</th>\n",
       "      <td>201944</td>\n",
       "      <td>11</td>\n",
       "      <td>131</td>\n",
       "      <td>1488</td>\n",
       "      <td>3</td>\n",
       "      <td>30</td>\n",
       "      <td>8</td>\n",
       "      <td>9</td>\n",
       "      <td>t</td>\n",
       "      <td>r</td>\n",
       "      <td>...</td>\n",
       "      <td>0</td>\n",
       "      <td>0</td>\n",
       "      <td>0</td>\n",
       "      <td>0</td>\n",
       "      <td>0</td>\n",
       "      <td>0</td>\n",
       "      <td>0</td>\n",
       "      <td>0</td>\n",
       "      <td>0</td>\n",
       "      <td>3.0</td>\n",
       "    </tr>\n",
       "  </tbody>\n",
       "</table>\n",
       "<p>5 rows × 40 columns</p>\n",
       "</div>"
      ],
      "text/plain": [
       "   building_id  geo_level_1_id  geo_level_2_id  geo_level_3_id  \\\n",
       "0       802906               6             487           12198   \n",
       "1        28830               8             900            2812   \n",
       "2        94947              21             363            8973   \n",
       "3       590882              22             418           10694   \n",
       "4       201944              11             131            1488   \n",
       "\n",
       "   count_floors_pre_eq  age  area_percentage  height_percentage  \\\n",
       "0                    2   30                6                  5   \n",
       "1                    2   10                8                  7   \n",
       "2                    2   10                5                  5   \n",
       "3                    2   10                6                  5   \n",
       "4                    3   30                8                  9   \n",
       "\n",
       "  land_surface_condition foundation_type  ... has_secondary_use_hotel  \\\n",
       "0                      t               r  ...                       0   \n",
       "1                      o               r  ...                       0   \n",
       "2                      t               r  ...                       0   \n",
       "3                      t               r  ...                       0   \n",
       "4                      t               r  ...                       0   \n",
       "\n",
       "  has_secondary_use_rental has_secondary_use_institution  \\\n",
       "0                        0                             0   \n",
       "1                        0                             0   \n",
       "2                        0                             0   \n",
       "3                        0                             0   \n",
       "4                        0                             0   \n",
       "\n",
       "  has_secondary_use_school has_secondary_use_industry  \\\n",
       "0                        0                          0   \n",
       "1                        0                          0   \n",
       "2                        0                          0   \n",
       "3                        0                          0   \n",
       "4                        0                          0   \n",
       "\n",
       "   has_secondary_use_health_post  has_secondary_use_gov_office  \\\n",
       "0                              0                             0   \n",
       "1                              0                             0   \n",
       "2                              0                             0   \n",
       "3                              0                             0   \n",
       "4                              0                             0   \n",
       "\n",
       "   has_secondary_use_use_police  has_secondary_use_other  damage_grade  \n",
       "0                             0                        0           3.0  \n",
       "1                             0                        0           2.0  \n",
       "2                             0                        0           3.0  \n",
       "3                             0                        0           2.0  \n",
       "4                             0                        0           3.0  \n",
       "\n",
       "[5 rows x 40 columns]"
      ]
     },
     "execution_count": 14,
     "metadata": {},
     "output_type": "execute_result"
    }
   ],
   "source": [
    "data.head()"
   ]
  },
  {
   "cell_type": "code",
   "execution_count": 15,
   "metadata": {},
   "outputs": [
    {
     "name": "stdout",
     "output_type": "stream",
     "text": [
      "<class 'pandas.core.frame.DataFrame'>\n",
      "RangeIndex: 347469 entries, 0 to 347468\n",
      "Data columns (total 40 columns):\n",
      "building_id                               347469 non-null int64\n",
      "geo_level_1_id                            347469 non-null int64\n",
      "geo_level_2_id                            347469 non-null int64\n",
      "geo_level_3_id                            347469 non-null int64\n",
      "count_floors_pre_eq                       347469 non-null int64\n",
      "age                                       347469 non-null int64\n",
      "area_percentage                           347469 non-null int64\n",
      "height_percentage                         347469 non-null int64\n",
      "land_surface_condition                    347469 non-null object\n",
      "foundation_type                           347469 non-null object\n",
      "roof_type                                 347469 non-null object\n",
      "ground_floor_type                         347469 non-null object\n",
      "other_floor_type                          347469 non-null object\n",
      "position                                  347469 non-null object\n",
      "plan_configuration                        347469 non-null object\n",
      "has_superstructure_adobe_mud              347469 non-null int64\n",
      "has_superstructure_mud_mortar_stone       347469 non-null int64\n",
      "has_superstructure_stone_flag             347469 non-null int64\n",
      "has_superstructure_cement_mortar_stone    347469 non-null int64\n",
      "has_superstructure_mud_mortar_brick       347469 non-null int64\n",
      "has_superstructure_cement_mortar_brick    347469 non-null int64\n",
      "has_superstructure_timber                 347469 non-null int64\n",
      "has_superstructure_bamboo                 347469 non-null int64\n",
      "has_superstructure_rc_non_engineered      347469 non-null int64\n",
      "has_superstructure_rc_engineered          347469 non-null int64\n",
      "has_superstructure_other                  347469 non-null int64\n",
      "legal_ownership_status                    347469 non-null object\n",
      "count_families                            347469 non-null int64\n",
      "has_secondary_use                         347469 non-null int64\n",
      "has_secondary_use_agriculture             347469 non-null int64\n",
      "has_secondary_use_hotel                   347469 non-null int64\n",
      "has_secondary_use_rental                  347469 non-null int64\n",
      "has_secondary_use_institution             347469 non-null int64\n",
      "has_secondary_use_school                  347469 non-null int64\n",
      "has_secondary_use_industry                347469 non-null int64\n",
      "has_secondary_use_health_post             347469 non-null int64\n",
      "has_secondary_use_gov_office              347469 non-null int64\n",
      "has_secondary_use_use_police              347469 non-null int64\n",
      "has_secondary_use_other                   347469 non-null int64\n",
      "damage_grade                              260601 non-null float64\n",
      "dtypes: float64(1), int64(31), object(8)\n",
      "memory usage: 106.0+ MB\n"
     ]
    }
   ],
   "source": [
    "data.info()"
   ]
  },
  {
   "cell_type": "code",
   "execution_count": 16,
   "metadata": {},
   "outputs": [
    {
     "data": {
      "text/plain": [
       "building_id                                   0\n",
       "geo_level_1_id                                0\n",
       "geo_level_2_id                                0\n",
       "geo_level_3_id                                0\n",
       "count_floors_pre_eq                           0\n",
       "age                                           0\n",
       "area_percentage                               0\n",
       "height_percentage                             0\n",
       "land_surface_condition                        0\n",
       "foundation_type                               0\n",
       "roof_type                                     0\n",
       "ground_floor_type                             0\n",
       "other_floor_type                              0\n",
       "position                                      0\n",
       "plan_configuration                            0\n",
       "has_superstructure_adobe_mud                  0\n",
       "has_superstructure_mud_mortar_stone           0\n",
       "has_superstructure_stone_flag                 0\n",
       "has_superstructure_cement_mortar_stone        0\n",
       "has_superstructure_mud_mortar_brick           0\n",
       "has_superstructure_cement_mortar_brick        0\n",
       "has_superstructure_timber                     0\n",
       "has_superstructure_bamboo                     0\n",
       "has_superstructure_rc_non_engineered          0\n",
       "has_superstructure_rc_engineered              0\n",
       "has_superstructure_other                      0\n",
       "legal_ownership_status                        0\n",
       "count_families                                0\n",
       "has_secondary_use                             0\n",
       "has_secondary_use_agriculture                 0\n",
       "has_secondary_use_hotel                       0\n",
       "has_secondary_use_rental                      0\n",
       "has_secondary_use_institution                 0\n",
       "has_secondary_use_school                      0\n",
       "has_secondary_use_industry                    0\n",
       "has_secondary_use_health_post                 0\n",
       "has_secondary_use_gov_office                  0\n",
       "has_secondary_use_use_police                  0\n",
       "has_secondary_use_other                       0\n",
       "damage_grade                              86868\n",
       "dtype: int64"
      ]
     },
     "execution_count": 16,
     "metadata": {},
     "output_type": "execute_result"
    }
   ],
   "source": [
    "data.isnull().sum()"
   ]
  },
  {
   "cell_type": "code",
   "execution_count": 17,
   "metadata": {},
   "outputs": [
    {
     "data": {
      "text/html": [
       "<div>\n",
       "<style scoped>\n",
       "    .dataframe tbody tr th:only-of-type {\n",
       "        vertical-align: middle;\n",
       "    }\n",
       "\n",
       "    .dataframe tbody tr th {\n",
       "        vertical-align: top;\n",
       "    }\n",
       "\n",
       "    .dataframe thead th {\n",
       "        text-align: right;\n",
       "    }\n",
       "</style>\n",
       "<table border=\"1\" class=\"dataframe\">\n",
       "  <thead>\n",
       "    <tr style=\"text-align: right;\">\n",
       "      <th></th>\n",
       "      <th>count</th>\n",
       "      <th>mean</th>\n",
       "      <th>std</th>\n",
       "      <th>min</th>\n",
       "      <th>25%</th>\n",
       "      <th>50%</th>\n",
       "      <th>75%</th>\n",
       "      <th>max</th>\n",
       "    </tr>\n",
       "  </thead>\n",
       "  <tbody>\n",
       "    <tr>\n",
       "      <th>building_id</th>\n",
       "      <td>260601.0</td>\n",
       "      <td>525675.482773</td>\n",
       "      <td>304544.999032</td>\n",
       "      <td>4.0</td>\n",
       "      <td>261190.0</td>\n",
       "      <td>525757.0</td>\n",
       "      <td>789762.0</td>\n",
       "      <td>1052934.0</td>\n",
       "    </tr>\n",
       "    <tr>\n",
       "      <th>geo_level_1_id</th>\n",
       "      <td>260601.0</td>\n",
       "      <td>13.900353</td>\n",
       "      <td>8.033617</td>\n",
       "      <td>0.0</td>\n",
       "      <td>7.0</td>\n",
       "      <td>12.0</td>\n",
       "      <td>21.0</td>\n",
       "      <td>30.0</td>\n",
       "    </tr>\n",
       "    <tr>\n",
       "      <th>geo_level_2_id</th>\n",
       "      <td>260601.0</td>\n",
       "      <td>701.074685</td>\n",
       "      <td>412.710734</td>\n",
       "      <td>0.0</td>\n",
       "      <td>350.0</td>\n",
       "      <td>702.0</td>\n",
       "      <td>1050.0</td>\n",
       "      <td>1427.0</td>\n",
       "    </tr>\n",
       "    <tr>\n",
       "      <th>geo_level_3_id</th>\n",
       "      <td>260601.0</td>\n",
       "      <td>6257.876148</td>\n",
       "      <td>3646.369645</td>\n",
       "      <td>0.0</td>\n",
       "      <td>3073.0</td>\n",
       "      <td>6270.0</td>\n",
       "      <td>9412.0</td>\n",
       "      <td>12567.0</td>\n",
       "    </tr>\n",
       "    <tr>\n",
       "      <th>count_floors_pre_eq</th>\n",
       "      <td>260601.0</td>\n",
       "      <td>2.129723</td>\n",
       "      <td>0.727665</td>\n",
       "      <td>1.0</td>\n",
       "      <td>2.0</td>\n",
       "      <td>2.0</td>\n",
       "      <td>2.0</td>\n",
       "      <td>9.0</td>\n",
       "    </tr>\n",
       "    <tr>\n",
       "      <th>age</th>\n",
       "      <td>260601.0</td>\n",
       "      <td>26.535029</td>\n",
       "      <td>73.565937</td>\n",
       "      <td>0.0</td>\n",
       "      <td>10.0</td>\n",
       "      <td>15.0</td>\n",
       "      <td>30.0</td>\n",
       "      <td>995.0</td>\n",
       "    </tr>\n",
       "    <tr>\n",
       "      <th>area_percentage</th>\n",
       "      <td>260601.0</td>\n",
       "      <td>8.018051</td>\n",
       "      <td>4.392231</td>\n",
       "      <td>1.0</td>\n",
       "      <td>5.0</td>\n",
       "      <td>7.0</td>\n",
       "      <td>9.0</td>\n",
       "      <td>100.0</td>\n",
       "    </tr>\n",
       "    <tr>\n",
       "      <th>height_percentage</th>\n",
       "      <td>260601.0</td>\n",
       "      <td>5.434365</td>\n",
       "      <td>1.918418</td>\n",
       "      <td>2.0</td>\n",
       "      <td>4.0</td>\n",
       "      <td>5.0</td>\n",
       "      <td>6.0</td>\n",
       "      <td>32.0</td>\n",
       "    </tr>\n",
       "    <tr>\n",
       "      <th>has_superstructure_adobe_mud</th>\n",
       "      <td>260601.0</td>\n",
       "      <td>0.088645</td>\n",
       "      <td>0.284231</td>\n",
       "      <td>0.0</td>\n",
       "      <td>0.0</td>\n",
       "      <td>0.0</td>\n",
       "      <td>0.0</td>\n",
       "      <td>1.0</td>\n",
       "    </tr>\n",
       "    <tr>\n",
       "      <th>has_superstructure_mud_mortar_stone</th>\n",
       "      <td>260601.0</td>\n",
       "      <td>0.761935</td>\n",
       "      <td>0.425900</td>\n",
       "      <td>0.0</td>\n",
       "      <td>1.0</td>\n",
       "      <td>1.0</td>\n",
       "      <td>1.0</td>\n",
       "      <td>1.0</td>\n",
       "    </tr>\n",
       "    <tr>\n",
       "      <th>has_superstructure_stone_flag</th>\n",
       "      <td>260601.0</td>\n",
       "      <td>0.034332</td>\n",
       "      <td>0.182081</td>\n",
       "      <td>0.0</td>\n",
       "      <td>0.0</td>\n",
       "      <td>0.0</td>\n",
       "      <td>0.0</td>\n",
       "      <td>1.0</td>\n",
       "    </tr>\n",
       "    <tr>\n",
       "      <th>has_superstructure_cement_mortar_stone</th>\n",
       "      <td>260601.0</td>\n",
       "      <td>0.018235</td>\n",
       "      <td>0.133800</td>\n",
       "      <td>0.0</td>\n",
       "      <td>0.0</td>\n",
       "      <td>0.0</td>\n",
       "      <td>0.0</td>\n",
       "      <td>1.0</td>\n",
       "    </tr>\n",
       "    <tr>\n",
       "      <th>has_superstructure_mud_mortar_brick</th>\n",
       "      <td>260601.0</td>\n",
       "      <td>0.068154</td>\n",
       "      <td>0.252010</td>\n",
       "      <td>0.0</td>\n",
       "      <td>0.0</td>\n",
       "      <td>0.0</td>\n",
       "      <td>0.0</td>\n",
       "      <td>1.0</td>\n",
       "    </tr>\n",
       "    <tr>\n",
       "      <th>has_superstructure_cement_mortar_brick</th>\n",
       "      <td>260601.0</td>\n",
       "      <td>0.075268</td>\n",
       "      <td>0.263824</td>\n",
       "      <td>0.0</td>\n",
       "      <td>0.0</td>\n",
       "      <td>0.0</td>\n",
       "      <td>0.0</td>\n",
       "      <td>1.0</td>\n",
       "    </tr>\n",
       "    <tr>\n",
       "      <th>has_superstructure_timber</th>\n",
       "      <td>260601.0</td>\n",
       "      <td>0.254988</td>\n",
       "      <td>0.435855</td>\n",
       "      <td>0.0</td>\n",
       "      <td>0.0</td>\n",
       "      <td>0.0</td>\n",
       "      <td>1.0</td>\n",
       "      <td>1.0</td>\n",
       "    </tr>\n",
       "    <tr>\n",
       "      <th>has_superstructure_bamboo</th>\n",
       "      <td>260601.0</td>\n",
       "      <td>0.085011</td>\n",
       "      <td>0.278899</td>\n",
       "      <td>0.0</td>\n",
       "      <td>0.0</td>\n",
       "      <td>0.0</td>\n",
       "      <td>0.0</td>\n",
       "      <td>1.0</td>\n",
       "    </tr>\n",
       "    <tr>\n",
       "      <th>has_superstructure_rc_non_engineered</th>\n",
       "      <td>260601.0</td>\n",
       "      <td>0.042590</td>\n",
       "      <td>0.201931</td>\n",
       "      <td>0.0</td>\n",
       "      <td>0.0</td>\n",
       "      <td>0.0</td>\n",
       "      <td>0.0</td>\n",
       "      <td>1.0</td>\n",
       "    </tr>\n",
       "    <tr>\n",
       "      <th>has_superstructure_rc_engineered</th>\n",
       "      <td>260601.0</td>\n",
       "      <td>0.015859</td>\n",
       "      <td>0.124932</td>\n",
       "      <td>0.0</td>\n",
       "      <td>0.0</td>\n",
       "      <td>0.0</td>\n",
       "      <td>0.0</td>\n",
       "      <td>1.0</td>\n",
       "    </tr>\n",
       "    <tr>\n",
       "      <th>has_superstructure_other</th>\n",
       "      <td>260601.0</td>\n",
       "      <td>0.014985</td>\n",
       "      <td>0.121491</td>\n",
       "      <td>0.0</td>\n",
       "      <td>0.0</td>\n",
       "      <td>0.0</td>\n",
       "      <td>0.0</td>\n",
       "      <td>1.0</td>\n",
       "    </tr>\n",
       "    <tr>\n",
       "      <th>count_families</th>\n",
       "      <td>260601.0</td>\n",
       "      <td>0.983949</td>\n",
       "      <td>0.418389</td>\n",
       "      <td>0.0</td>\n",
       "      <td>1.0</td>\n",
       "      <td>1.0</td>\n",
       "      <td>1.0</td>\n",
       "      <td>9.0</td>\n",
       "    </tr>\n",
       "    <tr>\n",
       "      <th>has_secondary_use</th>\n",
       "      <td>260601.0</td>\n",
       "      <td>0.111880</td>\n",
       "      <td>0.315219</td>\n",
       "      <td>0.0</td>\n",
       "      <td>0.0</td>\n",
       "      <td>0.0</td>\n",
       "      <td>0.0</td>\n",
       "      <td>1.0</td>\n",
       "    </tr>\n",
       "    <tr>\n",
       "      <th>has_secondary_use_agriculture</th>\n",
       "      <td>260601.0</td>\n",
       "      <td>0.064378</td>\n",
       "      <td>0.245426</td>\n",
       "      <td>0.0</td>\n",
       "      <td>0.0</td>\n",
       "      <td>0.0</td>\n",
       "      <td>0.0</td>\n",
       "      <td>1.0</td>\n",
       "    </tr>\n",
       "    <tr>\n",
       "      <th>has_secondary_use_hotel</th>\n",
       "      <td>260601.0</td>\n",
       "      <td>0.033626</td>\n",
       "      <td>0.180265</td>\n",
       "      <td>0.0</td>\n",
       "      <td>0.0</td>\n",
       "      <td>0.0</td>\n",
       "      <td>0.0</td>\n",
       "      <td>1.0</td>\n",
       "    </tr>\n",
       "    <tr>\n",
       "      <th>has_secondary_use_rental</th>\n",
       "      <td>260601.0</td>\n",
       "      <td>0.008101</td>\n",
       "      <td>0.089638</td>\n",
       "      <td>0.0</td>\n",
       "      <td>0.0</td>\n",
       "      <td>0.0</td>\n",
       "      <td>0.0</td>\n",
       "      <td>1.0</td>\n",
       "    </tr>\n",
       "    <tr>\n",
       "      <th>has_secondary_use_institution</th>\n",
       "      <td>260601.0</td>\n",
       "      <td>0.000940</td>\n",
       "      <td>0.030647</td>\n",
       "      <td>0.0</td>\n",
       "      <td>0.0</td>\n",
       "      <td>0.0</td>\n",
       "      <td>0.0</td>\n",
       "      <td>1.0</td>\n",
       "    </tr>\n",
       "    <tr>\n",
       "      <th>has_secondary_use_school</th>\n",
       "      <td>260601.0</td>\n",
       "      <td>0.000361</td>\n",
       "      <td>0.018989</td>\n",
       "      <td>0.0</td>\n",
       "      <td>0.0</td>\n",
       "      <td>0.0</td>\n",
       "      <td>0.0</td>\n",
       "      <td>1.0</td>\n",
       "    </tr>\n",
       "    <tr>\n",
       "      <th>has_secondary_use_industry</th>\n",
       "      <td>260601.0</td>\n",
       "      <td>0.001071</td>\n",
       "      <td>0.032703</td>\n",
       "      <td>0.0</td>\n",
       "      <td>0.0</td>\n",
       "      <td>0.0</td>\n",
       "      <td>0.0</td>\n",
       "      <td>1.0</td>\n",
       "    </tr>\n",
       "    <tr>\n",
       "      <th>has_secondary_use_health_post</th>\n",
       "      <td>260601.0</td>\n",
       "      <td>0.000188</td>\n",
       "      <td>0.013711</td>\n",
       "      <td>0.0</td>\n",
       "      <td>0.0</td>\n",
       "      <td>0.0</td>\n",
       "      <td>0.0</td>\n",
       "      <td>1.0</td>\n",
       "    </tr>\n",
       "    <tr>\n",
       "      <th>has_secondary_use_gov_office</th>\n",
       "      <td>260601.0</td>\n",
       "      <td>0.000146</td>\n",
       "      <td>0.012075</td>\n",
       "      <td>0.0</td>\n",
       "      <td>0.0</td>\n",
       "      <td>0.0</td>\n",
       "      <td>0.0</td>\n",
       "      <td>1.0</td>\n",
       "    </tr>\n",
       "    <tr>\n",
       "      <th>has_secondary_use_use_police</th>\n",
       "      <td>260601.0</td>\n",
       "      <td>0.000088</td>\n",
       "      <td>0.009394</td>\n",
       "      <td>0.0</td>\n",
       "      <td>0.0</td>\n",
       "      <td>0.0</td>\n",
       "      <td>0.0</td>\n",
       "      <td>1.0</td>\n",
       "    </tr>\n",
       "    <tr>\n",
       "      <th>has_secondary_use_other</th>\n",
       "      <td>260601.0</td>\n",
       "      <td>0.005119</td>\n",
       "      <td>0.071364</td>\n",
       "      <td>0.0</td>\n",
       "      <td>0.0</td>\n",
       "      <td>0.0</td>\n",
       "      <td>0.0</td>\n",
       "      <td>1.0</td>\n",
       "    </tr>\n",
       "    <tr>\n",
       "      <th>damage_grade</th>\n",
       "      <td>260601.0</td>\n",
       "      <td>2.238272</td>\n",
       "      <td>0.611814</td>\n",
       "      <td>1.0</td>\n",
       "      <td>2.0</td>\n",
       "      <td>2.0</td>\n",
       "      <td>3.0</td>\n",
       "      <td>3.0</td>\n",
       "    </tr>\n",
       "  </tbody>\n",
       "</table>\n",
       "</div>"
      ],
      "text/plain": [
       "                                           count           mean  \\\n",
       "building_id                             260601.0  525675.482773   \n",
       "geo_level_1_id                          260601.0      13.900353   \n",
       "geo_level_2_id                          260601.0     701.074685   \n",
       "geo_level_3_id                          260601.0    6257.876148   \n",
       "count_floors_pre_eq                     260601.0       2.129723   \n",
       "age                                     260601.0      26.535029   \n",
       "area_percentage                         260601.0       8.018051   \n",
       "height_percentage                       260601.0       5.434365   \n",
       "has_superstructure_adobe_mud            260601.0       0.088645   \n",
       "has_superstructure_mud_mortar_stone     260601.0       0.761935   \n",
       "has_superstructure_stone_flag           260601.0       0.034332   \n",
       "has_superstructure_cement_mortar_stone  260601.0       0.018235   \n",
       "has_superstructure_mud_mortar_brick     260601.0       0.068154   \n",
       "has_superstructure_cement_mortar_brick  260601.0       0.075268   \n",
       "has_superstructure_timber               260601.0       0.254988   \n",
       "has_superstructure_bamboo               260601.0       0.085011   \n",
       "has_superstructure_rc_non_engineered    260601.0       0.042590   \n",
       "has_superstructure_rc_engineered        260601.0       0.015859   \n",
       "has_superstructure_other                260601.0       0.014985   \n",
       "count_families                          260601.0       0.983949   \n",
       "has_secondary_use                       260601.0       0.111880   \n",
       "has_secondary_use_agriculture           260601.0       0.064378   \n",
       "has_secondary_use_hotel                 260601.0       0.033626   \n",
       "has_secondary_use_rental                260601.0       0.008101   \n",
       "has_secondary_use_institution           260601.0       0.000940   \n",
       "has_secondary_use_school                260601.0       0.000361   \n",
       "has_secondary_use_industry              260601.0       0.001071   \n",
       "has_secondary_use_health_post           260601.0       0.000188   \n",
       "has_secondary_use_gov_office            260601.0       0.000146   \n",
       "has_secondary_use_use_police            260601.0       0.000088   \n",
       "has_secondary_use_other                 260601.0       0.005119   \n",
       "damage_grade                            260601.0       2.238272   \n",
       "\n",
       "                                                  std  min       25%  \\\n",
       "building_id                             304544.999032  4.0  261190.0   \n",
       "geo_level_1_id                               8.033617  0.0       7.0   \n",
       "geo_level_2_id                             412.710734  0.0     350.0   \n",
       "geo_level_3_id                            3646.369645  0.0    3073.0   \n",
       "count_floors_pre_eq                          0.727665  1.0       2.0   \n",
       "age                                         73.565937  0.0      10.0   \n",
       "area_percentage                              4.392231  1.0       5.0   \n",
       "height_percentage                            1.918418  2.0       4.0   \n",
       "has_superstructure_adobe_mud                 0.284231  0.0       0.0   \n",
       "has_superstructure_mud_mortar_stone          0.425900  0.0       1.0   \n",
       "has_superstructure_stone_flag                0.182081  0.0       0.0   \n",
       "has_superstructure_cement_mortar_stone       0.133800  0.0       0.0   \n",
       "has_superstructure_mud_mortar_brick          0.252010  0.0       0.0   \n",
       "has_superstructure_cement_mortar_brick       0.263824  0.0       0.0   \n",
       "has_superstructure_timber                    0.435855  0.0       0.0   \n",
       "has_superstructure_bamboo                    0.278899  0.0       0.0   \n",
       "has_superstructure_rc_non_engineered         0.201931  0.0       0.0   \n",
       "has_superstructure_rc_engineered             0.124932  0.0       0.0   \n",
       "has_superstructure_other                     0.121491  0.0       0.0   \n",
       "count_families                               0.418389  0.0       1.0   \n",
       "has_secondary_use                            0.315219  0.0       0.0   \n",
       "has_secondary_use_agriculture                0.245426  0.0       0.0   \n",
       "has_secondary_use_hotel                      0.180265  0.0       0.0   \n",
       "has_secondary_use_rental                     0.089638  0.0       0.0   \n",
       "has_secondary_use_institution                0.030647  0.0       0.0   \n",
       "has_secondary_use_school                     0.018989  0.0       0.0   \n",
       "has_secondary_use_industry                   0.032703  0.0       0.0   \n",
       "has_secondary_use_health_post                0.013711  0.0       0.0   \n",
       "has_secondary_use_gov_office                 0.012075  0.0       0.0   \n",
       "has_secondary_use_use_police                 0.009394  0.0       0.0   \n",
       "has_secondary_use_other                      0.071364  0.0       0.0   \n",
       "damage_grade                                 0.611814  1.0       2.0   \n",
       "\n",
       "                                             50%       75%        max  \n",
       "building_id                             525757.0  789762.0  1052934.0  \n",
       "geo_level_1_id                              12.0      21.0       30.0  \n",
       "geo_level_2_id                             702.0    1050.0     1427.0  \n",
       "geo_level_3_id                            6270.0    9412.0    12567.0  \n",
       "count_floors_pre_eq                          2.0       2.0        9.0  \n",
       "age                                         15.0      30.0      995.0  \n",
       "area_percentage                              7.0       9.0      100.0  \n",
       "height_percentage                            5.0       6.0       32.0  \n",
       "has_superstructure_adobe_mud                 0.0       0.0        1.0  \n",
       "has_superstructure_mud_mortar_stone          1.0       1.0        1.0  \n",
       "has_superstructure_stone_flag                0.0       0.0        1.0  \n",
       "has_superstructure_cement_mortar_stone       0.0       0.0        1.0  \n",
       "has_superstructure_mud_mortar_brick          0.0       0.0        1.0  \n",
       "has_superstructure_cement_mortar_brick       0.0       0.0        1.0  \n",
       "has_superstructure_timber                    0.0       1.0        1.0  \n",
       "has_superstructure_bamboo                    0.0       0.0        1.0  \n",
       "has_superstructure_rc_non_engineered         0.0       0.0        1.0  \n",
       "has_superstructure_rc_engineered             0.0       0.0        1.0  \n",
       "has_superstructure_other                     0.0       0.0        1.0  \n",
       "count_families                               1.0       1.0        9.0  \n",
       "has_secondary_use                            0.0       0.0        1.0  \n",
       "has_secondary_use_agriculture                0.0       0.0        1.0  \n",
       "has_secondary_use_hotel                      0.0       0.0        1.0  \n",
       "has_secondary_use_rental                     0.0       0.0        1.0  \n",
       "has_secondary_use_institution                0.0       0.0        1.0  \n",
       "has_secondary_use_school                     0.0       0.0        1.0  \n",
       "has_secondary_use_industry                   0.0       0.0        1.0  \n",
       "has_secondary_use_health_post                0.0       0.0        1.0  \n",
       "has_secondary_use_gov_office                 0.0       0.0        1.0  \n",
       "has_secondary_use_use_police                 0.0       0.0        1.0  \n",
       "has_secondary_use_other                      0.0       0.0        1.0  \n",
       "damage_grade                                 2.0       3.0        3.0  "
      ]
     },
     "execution_count": 17,
     "metadata": {},
     "output_type": "execute_result"
    }
   ],
   "source": [
    "train.describe().T"
   ]
  },
  {
   "cell_type": "code",
   "execution_count": 18,
   "metadata": {},
   "outputs": [
    {
     "data": {
      "text/html": [
       "<div>\n",
       "<style scoped>\n",
       "    .dataframe tbody tr th:only-of-type {\n",
       "        vertical-align: middle;\n",
       "    }\n",
       "\n",
       "    .dataframe tbody tr th {\n",
       "        vertical-align: top;\n",
       "    }\n",
       "\n",
       "    .dataframe thead th {\n",
       "        text-align: right;\n",
       "    }\n",
       "</style>\n",
       "<table border=\"1\" class=\"dataframe\">\n",
       "  <thead>\n",
       "    <tr style=\"text-align: right;\">\n",
       "      <th></th>\n",
       "      <th>count</th>\n",
       "      <th>unique</th>\n",
       "      <th>top</th>\n",
       "      <th>freq</th>\n",
       "    </tr>\n",
       "  </thead>\n",
       "  <tbody>\n",
       "    <tr>\n",
       "      <th>land_surface_condition</th>\n",
       "      <td>260601</td>\n",
       "      <td>3</td>\n",
       "      <td>t</td>\n",
       "      <td>216757</td>\n",
       "    </tr>\n",
       "    <tr>\n",
       "      <th>foundation_type</th>\n",
       "      <td>260601</td>\n",
       "      <td>5</td>\n",
       "      <td>r</td>\n",
       "      <td>219196</td>\n",
       "    </tr>\n",
       "    <tr>\n",
       "      <th>roof_type</th>\n",
       "      <td>260601</td>\n",
       "      <td>3</td>\n",
       "      <td>n</td>\n",
       "      <td>182842</td>\n",
       "    </tr>\n",
       "    <tr>\n",
       "      <th>ground_floor_type</th>\n",
       "      <td>260601</td>\n",
       "      <td>5</td>\n",
       "      <td>f</td>\n",
       "      <td>209619</td>\n",
       "    </tr>\n",
       "    <tr>\n",
       "      <th>other_floor_type</th>\n",
       "      <td>260601</td>\n",
       "      <td>4</td>\n",
       "      <td>q</td>\n",
       "      <td>165282</td>\n",
       "    </tr>\n",
       "    <tr>\n",
       "      <th>position</th>\n",
       "      <td>260601</td>\n",
       "      <td>4</td>\n",
       "      <td>s</td>\n",
       "      <td>202090</td>\n",
       "    </tr>\n",
       "    <tr>\n",
       "      <th>plan_configuration</th>\n",
       "      <td>260601</td>\n",
       "      <td>10</td>\n",
       "      <td>d</td>\n",
       "      <td>250072</td>\n",
       "    </tr>\n",
       "    <tr>\n",
       "      <th>legal_ownership_status</th>\n",
       "      <td>260601</td>\n",
       "      <td>4</td>\n",
       "      <td>v</td>\n",
       "      <td>250939</td>\n",
       "    </tr>\n",
       "  </tbody>\n",
       "</table>\n",
       "</div>"
      ],
      "text/plain": [
       "                         count unique top    freq\n",
       "land_surface_condition  260601      3   t  216757\n",
       "foundation_type         260601      5   r  219196\n",
       "roof_type               260601      3   n  182842\n",
       "ground_floor_type       260601      5   f  209619\n",
       "other_floor_type        260601      4   q  165282\n",
       "position                260601      4   s  202090\n",
       "plan_configuration      260601     10   d  250072\n",
       "legal_ownership_status  260601      4   v  250939"
      ]
     },
     "execution_count": 18,
     "metadata": {},
     "output_type": "execute_result"
    }
   ],
   "source": [
    "train.describe(include='object').T"
   ]
  },
  {
   "cell_type": "code",
   "execution_count": 19,
   "metadata": {},
   "outputs": [
    {
     "data": {
      "text/plain": [
       "<matplotlib.axes._subplots.AxesSubplot at 0x1cd8e430e10>"
      ]
     },
     "execution_count": 19,
     "metadata": {},
     "output_type": "execute_result"
    },
    {
     "data": {
      "image/png": "[encoded data removed]",
      "text/plain": [
       "<Figure size 432x288 with 1 Axes>"
      ]
     },
     "metadata": {
      "needs_background": "light"
     },
     "output_type": "display_data"
    }
   ],
   "source": [
    "sns.countplot(train.damage_grade)"
   ]
  },
  {
   "cell_type": "code",
   "execution_count": 20,
   "metadata": {},
   "outputs": [
    {
     "data": {
      "text/plain": [
       "2    148259\n",
       "3     87218\n",
       "1     25124\n",
       "Name: damage_grade, dtype: int64"
      ]
     },
     "execution_count": 20,
     "metadata": {},
     "output_type": "execute_result"
    }
   ],
   "source": [
    "train.damage_grade.value_counts()"
   ]
  },
  {
   "cell_type": "code",
   "execution_count": 21,
   "metadata": {},
   "outputs": [
    {
     "data": {
      "text/plain": [
       "84"
      ]
     },
     "execution_count": 21,
     "metadata": {},
     "output_type": "execute_result"
    }
   ],
   "source": [
    "train.area_percentage.nunique()"
   ]
  },
  {
   "cell_type": "code",
   "execution_count": 22,
   "metadata": {},
   "outputs": [
    {
     "data": {
      "text/plain": [
       "<matplotlib.axes._subplots.AxesSubplot at 0x1cd8e4c82b0>"
      ]
     },
     "execution_count": 22,
     "metadata": {},
     "output_type": "execute_result"
    },
    {
     "data": {
      "image/png": "[encoded data removed]",
      "text/plain": [
       "<Figure size 1800x864 with 1 Axes>"
      ]
     },
     "metadata": {
      "needs_background": "light"
     },
     "output_type": "display_data"
    }
   ],
   "source": [
    "plt.figure(figsize=(25,12))\n",
    "sns.countplot(train.area_percentage,hue=train.damage_grade)"
   ]
  },
  {
   "cell_type": "code",
   "execution_count": 23,
   "metadata": {},
   "outputs": [],
   "source": [
    "imp_feat = []"
   ]
  },
  {
   "cell_type": "code",
   "execution_count": 24,
   "metadata": {},
   "outputs": [
    {
     "name": "stderr",
     "output_type": "stream",
     "text": [
      "C:\\Users\\Navika\\Anaconda3\\lib\\site-packages\\scipy\\stats\\stats.py:5180: RuntimeWarning: overflow encountered in long_scalars\n",
      "  h = 12.0 / (totaln * (totaln + 1)) * ssbn - 3 * (totaln + 1)\n"
     ]
    },
    {
     "data": {
      "text/plain": [
       "KruskalResult(statistic=-68664248.00118299, pvalue=1.0)"
      ]
     },
     "execution_count": 24,
     "metadata": {},
     "output_type": "execute_result"
    }
   ],
   "source": [
    "from scipy import stats\n",
    "import numpy       as np\n",
    "import pandas      as pd\n",
    "import scipy.stats as st\n",
    "from scipy.stats             import ttest_1samp,ttest_ind, wilcoxon\n",
    "from statsmodels.stats.power import ttest_power\n",
    "import matplotlib.pyplot     as     plt\n",
    "\n",
    "g1=train[train['damage_grade']==1]['age']\n",
    "g2=train[train['damage_grade']==2]['age']\n",
    "g3=train[train['damage_grade']==3]['age']\n",
    "stats.kruskal(g1,g2,g3)"
   ]
  },
  {
   "cell_type": "raw",
   "metadata": {},
   "source": [
    "the null hypothesis states that the mean age of all three groups of damage grades is same (age has no effect no damage grade).\n",
    "manwhitney or kruskal can estimate the strength of the association can be derived from it.\n",
    "So as p value > 0.05, we accpet the null hypothesis\n",
    "that age has no effect on damage_grade."
   ]
  },
  {
   "cell_type": "code",
   "execution_count": 25,
   "metadata": {},
   "outputs": [
    {
     "data": {
      "text/plain": [
       "<matplotlib.axes._subplots.AxesSubplot at 0x1cd8f759470>"
      ]
     },
     "execution_count": 25,
     "metadata": {},
     "output_type": "execute_result"
    },
    {
     "data": {
      "image/png": "[encoded data removed]",
      "text/plain": [
       "<Figure size 1800x864 with 1 Axes>"
      ]
     },
     "metadata": {
      "needs_background": "light"
     },
     "output_type": "display_data"
    }
   ],
   "source": [
    "plt.figure(figsize=(25,12))\n",
    "sns.countplot(train.age,hue=train.damage_grade)"
   ]
  },
  {
   "cell_type": "code",
   "execution_count": 26,
   "metadata": {},
   "outputs": [
    {
     "name": "stdout",
     "output_type": "stream",
     "text": [
      "Multiple Comparison of Means - Tukey HSD, FWER=0.05 \n",
      "====================================================\n",
      "group1 group2 meandiff p-adj   lower   upper  reject\n",
      "----------------------------------------------------\n",
      "     1      2  10.0216  0.001  8.8463  11.197   True\n",
      "     1      3  10.4969  0.001  9.2634 11.7304   True\n",
      "     2      3   0.4753 0.2841 -0.2598  1.2105  False\n",
      "----------------------------------------------------\n"
     ]
    }
   ],
   "source": [
    "#just for practise\n",
    "from statsmodels.stats.multicomp import (pairwise_tukeyhsd,\n",
    "                                         MultiComparison)\n",
    "\n",
    "# Set up the data for comparison (creates a specialised object)\n",
    "MultiComp = MultiComparison(train['age'],\n",
    "                            train['damage_grade'])\n",
    "\n",
    "# Show all pair-wise comparisons:\n",
    "# Print the comparisons\n",
    "\n",
    "print(MultiComp.tukeyhsd().summary())"
   ]
  },
  {
   "cell_type": "code",
   "execution_count": 27,
   "metadata": {},
   "outputs": [
    {
     "data": {
      "text/plain": [
       "KruskalResult(statistic=-67667012.93140417, pvalue=1.0)"
      ]
     },
     "execution_count": 27,
     "metadata": {},
     "output_type": "execute_result"
    }
   ],
   "source": [
    "g1=train[train['damage_grade']==1]['area_percentage']\n",
    "g2=train[train['damage_grade']==2]['area_percentage']\n",
    "g3=train[train['damage_grade']==3]['area_percentage']\n",
    "stats.kruskal(g1,g2,g3)"
   ]
  },
  {
   "cell_type": "raw",
   "metadata": {},
   "source": [
    "So area_percentage has no effect on the damage_grade."
   ]
  },
  {
   "cell_type": "code",
   "execution_count": 28,
   "metadata": {},
   "outputs": [
    {
     "data": {
      "text/plain": [
       "<matplotlib.axes._subplots.AxesSubplot at 0x1cd90b2cb70>"
      ]
     },
     "execution_count": 28,
     "metadata": {},
     "output_type": "execute_result"
    },
    {
     "data": {
      "image/png": "[encoded data removed]",
      "text/plain": [
       "<Figure size 1080x576 with 1 Axes>"
      ]
     },
     "metadata": {
      "needs_background": "light"
     },
     "output_type": "display_data"
    }
   ],
   "source": [
    "plt.figure(figsize=(15,8))\n",
    "sns.countplot(train.geo_level_1_id)"
   ]
  },
  {
   "cell_type": "code",
   "execution_count": 29,
   "metadata": {},
   "outputs": [
    {
     "data": {
      "text/plain": [
       "12567"
      ]
     },
     "execution_count": 29,
     "metadata": {},
     "output_type": "execute_result"
    }
   ],
   "source": [
    "train['geo_level_3_id'].max()"
   ]
  },
  {
   "cell_type": "code",
   "execution_count": 30,
   "metadata": {},
   "outputs": [
    {
     "data": {
      "text/plain": [
       "1427"
      ]
     },
     "execution_count": 30,
     "metadata": {},
     "output_type": "execute_result"
    }
   ],
   "source": [
    "train['geo_level_2_id'].max()"
   ]
  },
  {
   "cell_type": "code",
   "execution_count": 31,
   "metadata": {},
   "outputs": [
    {
     "data": {
      "text/plain": [
       "30"
      ]
     },
     "execution_count": 31,
     "metadata": {},
     "output_type": "execute_result"
    }
   ],
   "source": [
    "train['geo_level_1_id'].max()"
   ]
  },
  {
   "cell_type": "code",
   "execution_count": 32,
   "metadata": {},
   "outputs": [
    {
     "data": {
      "text/plain": [
       "<matplotlib.axes._subplots.AxesSubplot at 0x1cd909fbe48>"
      ]
     },
     "execution_count": 32,
     "metadata": {},
     "output_type": "execute_result"
    },
    {
     "data": {
      "image/png": "[encoded data removed]",
      "text/plain": [
       "<Figure size 432x288 with 1 Axes>"
      ]
     },
     "metadata": {
      "needs_background": "light"
     },
     "output_type": "display_data"
    }
   ],
   "source": [
    "sns.countplot(train['geo_level_1_id'])"
   ]
  },
  {
   "cell_type": "code",
   "execution_count": 33,
   "metadata": {},
   "outputs": [
    {
     "data": {
      "text/plain": [
       "'def GL1(x):\\n    if((x>=0) and (x<=10)):\\n        return(\"0-10\")\\n    elif((x>10) and (x<=20)):\\n        return(\"10-20\")\\n    else:\\n        return(\"20-30\")'"
      ]
     },
     "execution_count": 33,
     "metadata": {},
     "output_type": "execute_result"
    }
   ],
   "source": [
    "'''def GL1(x):\n",
    "    if((x>=0) and (x<=10)):\n",
    "        return(\"0-10\")\n",
    "    elif((x>10) and (x<=20)):\n",
    "        return(\"10-20\")\n",
    "    else:\n",
    "        return(\"20-30\")'''"
   ]
  },
  {
   "cell_type": "code",
   "execution_count": 34,
   "metadata": {},
   "outputs": [],
   "source": [
    "#data['GL1'] = data.geo_level_1_id.apply(GL1)"
   ]
  },
  {
   "cell_type": "code",
   "execution_count": 35,
   "metadata": {},
   "outputs": [],
   "source": [
    "#train['GL1'] = train.geo_level_1_id.apply(GL1)"
   ]
  },
  {
   "cell_type": "code",
   "execution_count": 36,
   "metadata": {},
   "outputs": [],
   "source": [
    "#sns.countplot(train.GL1)"
   ]
  },
  {
   "cell_type": "code",
   "execution_count": 37,
   "metadata": {},
   "outputs": [],
   "source": [
    "#train.drop(['geo_level_1_id'],axis=1,inplace=True)"
   ]
  },
  {
   "cell_type": "code",
   "execution_count": 38,
   "metadata": {},
   "outputs": [],
   "source": [
    "#data.drop(['geo_level_1_id'],axis=1,inplace=True)"
   ]
  },
  {
   "cell_type": "code",
   "execution_count": 39,
   "metadata": {},
   "outputs": [
    {
     "data": {
      "text/plain": [
       "'def GL2(x):\\n    if((x>=0) and (x<=238)):\\n        return(\"0-238\")\\n    elif((x>238) and (x<=476)):\\n        return(\"238-476\")\\n    elif((x>476) and (x<=714)):\\n        return(\"476-714\")\\n    elif((x>714) and (x<=952)):\\n        return(\"714-952\")\\n    elif((x>952) and (x<=1190)):\\n        return(\"952-1190\")\\n    else:\\n        return(\"1190-1428\")'"
      ]
     },
     "execution_count": 39,
     "metadata": {},
     "output_type": "execute_result"
    }
   ],
   "source": [
    "'''def GL2(x):\n",
    "    if((x>=0) and (x<=238)):\n",
    "        return(\"0-238\")\n",
    "    elif((x>238) and (x<=476)):\n",
    "        return(\"238-476\")\n",
    "    elif((x>476) and (x<=714)):\n",
    "        return(\"476-714\")\n",
    "    elif((x>714) and (x<=952)):\n",
    "        return(\"714-952\")\n",
    "    elif((x>952) and (x<=1190)):\n",
    "        return(\"952-1190\")\n",
    "    else:\n",
    "        return(\"1190-1428\")'''"
   ]
  },
  {
   "cell_type": "code",
   "execution_count": 40,
   "metadata": {},
   "outputs": [],
   "source": [
    "#data['GL2'] = data.geo_level_2_id.apply(GL2)"
   ]
  },
  {
   "cell_type": "code",
   "execution_count": 41,
   "metadata": {},
   "outputs": [],
   "source": [
    "#train['GL2'] = train.geo_level_2_id.apply(GL2)"
   ]
  },
  {
   "cell_type": "code",
   "execution_count": 42,
   "metadata": {},
   "outputs": [],
   "source": [
    "#sns.countplot(data.GL2)"
   ]
  },
  {
   "cell_type": "code",
   "execution_count": 43,
   "metadata": {},
   "outputs": [],
   "source": [
    "#data.drop(['geo_level_2_id'],axis=1,inplace=True)"
   ]
  },
  {
   "cell_type": "code",
   "execution_count": 44,
   "metadata": {},
   "outputs": [],
   "source": [
    "#train.drop(['geo_level_2_id'],axis=1,inplace=True)"
   ]
  },
  {
   "cell_type": "code",
   "execution_count": 45,
   "metadata": {},
   "outputs": [
    {
     "data": {
      "text/plain": [
       "'def GL3(x):\\n    if((x>=0) and (x<=1396)):\\n        return(\"0-1396\")\\n    elif((x>1396) and (x<=2792)):\\n        return(\"1396-2792\")\\n    elif((x>2792) and (x<=4188)):\\n        return(\"2792-4188\")\\n    elif((x>4188) and (x<=5584)):\\n        return(\"4188-5584\")\\n    elif((x>5584) and (x<=8376)):\\n        return(\"5584-8376\")\\n    elif((x>8376) and (x<=9772)):\\n        return(\"8376-9772\")\\n    elif((x>9772) and (x<=11168)):\\n        return(\"9772-11168\")\\n    else:\\n        return(\"11168-12567\")'"
      ]
     },
     "execution_count": 45,
     "metadata": {},
     "output_type": "execute_result"
    }
   ],
   "source": [
    "'''def GL3(x):\n",
    "    if((x>=0) and (x<=1396)):\n",
    "        return(\"0-1396\")\n",
    "    elif((x>1396) and (x<=2792)):\n",
    "        return(\"1396-2792\")\n",
    "    elif((x>2792) and (x<=4188)):\n",
    "        return(\"2792-4188\")\n",
    "    elif((x>4188) and (x<=5584)):\n",
    "        return(\"4188-5584\")\n",
    "    elif((x>5584) and (x<=8376)):\n",
    "        return(\"5584-8376\")\n",
    "    elif((x>8376) and (x<=9772)):\n",
    "        return(\"8376-9772\")\n",
    "    elif((x>9772) and (x<=11168)):\n",
    "        return(\"9772-11168\")\n",
    "    else:\n",
    "        return(\"11168-12567\")'''\n",
    "    "
   ]
  },
  {
   "cell_type": "code",
   "execution_count": 46,
   "metadata": {},
   "outputs": [],
   "source": [
    "#data['GL3'] = data.geo_level_3_id.apply(GL3)"
   ]
  },
  {
   "cell_type": "code",
   "execution_count": 47,
   "metadata": {},
   "outputs": [],
   "source": [
    "#train['GL3'] = train.geo_level_3_id.apply(GL3)"
   ]
  },
  {
   "cell_type": "code",
   "execution_count": 48,
   "metadata": {},
   "outputs": [],
   "source": [
    "#sns.countplot(data.GL3)"
   ]
  },
  {
   "cell_type": "code",
   "execution_count": 49,
   "metadata": {},
   "outputs": [],
   "source": [
    "#data.drop(['geo_level_3_id'],axis=1,inplace=True)"
   ]
  },
  {
   "cell_type": "code",
   "execution_count": 50,
   "metadata": {},
   "outputs": [],
   "source": [
    "#train.drop(['geo_level_3_id'],axis=1,inplace=True)"
   ]
  },
  {
   "cell_type": "code",
   "execution_count": 51,
   "metadata": {},
   "outputs": [
    {
     "data": {
      "text/html": [
       "<div>\n",
       "<style scoped>\n",
       "    .dataframe tbody tr th:only-of-type {\n",
       "        vertical-align: middle;\n",
       "    }\n",
       "\n",
       "    .dataframe tbody tr th {\n",
       "        vertical-align: top;\n",
       "    }\n",
       "\n",
       "    .dataframe thead th {\n",
       "        text-align: right;\n",
       "    }\n",
       "</style>\n",
       "<table border=\"1\" class=\"dataframe\">\n",
       "  <thead>\n",
       "    <tr style=\"text-align: right;\">\n",
       "      <th>damage_grade</th>\n",
       "      <th>1</th>\n",
       "      <th>2</th>\n",
       "      <th>3</th>\n",
       "    </tr>\n",
       "    <tr>\n",
       "      <th>geo_level_1_id</th>\n",
       "      <th></th>\n",
       "      <th></th>\n",
       "      <th></th>\n",
       "    </tr>\n",
       "  </thead>\n",
       "  <tbody>\n",
       "    <tr>\n",
       "      <th>0</th>\n",
       "      <td>337</td>\n",
       "      <td>3075</td>\n",
       "      <td>599</td>\n",
       "    </tr>\n",
       "    <tr>\n",
       "      <th>1</th>\n",
       "      <td>411</td>\n",
       "      <td>1985</td>\n",
       "      <td>305</td>\n",
       "    </tr>\n",
       "    <tr>\n",
       "      <th>2</th>\n",
       "      <td>85</td>\n",
       "      <td>610</td>\n",
       "      <td>236</td>\n",
       "    </tr>\n",
       "    <tr>\n",
       "      <th>3</th>\n",
       "      <td>245</td>\n",
       "      <td>4550</td>\n",
       "      <td>2745</td>\n",
       "    </tr>\n",
       "    <tr>\n",
       "      <th>4</th>\n",
       "      <td>521</td>\n",
       "      <td>11164</td>\n",
       "      <td>2883</td>\n",
       "    </tr>\n",
       "    <tr>\n",
       "      <th>5</th>\n",
       "      <td>446</td>\n",
       "      <td>2014</td>\n",
       "      <td>230</td>\n",
       "    </tr>\n",
       "    <tr>\n",
       "      <th>6</th>\n",
       "      <td>2108</td>\n",
       "      <td>16222</td>\n",
       "      <td>6051</td>\n",
       "    </tr>\n",
       "    <tr>\n",
       "      <th>7</th>\n",
       "      <td>1033</td>\n",
       "      <td>11273</td>\n",
       "      <td>6688</td>\n",
       "    </tr>\n",
       "    <tr>\n",
       "      <th>8</th>\n",
       "      <td>654</td>\n",
       "      <td>8513</td>\n",
       "      <td>9913</td>\n",
       "    </tr>\n",
       "    <tr>\n",
       "      <th>9</th>\n",
       "      <td>561</td>\n",
       "      <td>2733</td>\n",
       "      <td>664</td>\n",
       "    </tr>\n",
       "    <tr>\n",
       "      <th>10</th>\n",
       "      <td>1211</td>\n",
       "      <td>12107</td>\n",
       "      <td>8761</td>\n",
       "    </tr>\n",
       "    <tr>\n",
       "      <th>11</th>\n",
       "      <td>386</td>\n",
       "      <td>4672</td>\n",
       "      <td>3162</td>\n",
       "    </tr>\n",
       "    <tr>\n",
       "      <th>12</th>\n",
       "      <td>199</td>\n",
       "      <td>2310</td>\n",
       "      <td>685</td>\n",
       "    </tr>\n",
       "    <tr>\n",
       "      <th>13</th>\n",
       "      <td>1966</td>\n",
       "      <td>6275</td>\n",
       "      <td>1367</td>\n",
       "    </tr>\n",
       "    <tr>\n",
       "      <th>14</th>\n",
       "      <td>191</td>\n",
       "      <td>1247</td>\n",
       "      <td>276</td>\n",
       "    </tr>\n",
       "    <tr>\n",
       "      <th>15</th>\n",
       "      <td>163</td>\n",
       "      <td>1673</td>\n",
       "      <td>484</td>\n",
       "    </tr>\n",
       "    <tr>\n",
       "      <th>16</th>\n",
       "      <td>200</td>\n",
       "      <td>3188</td>\n",
       "      <td>944</td>\n",
       "    </tr>\n",
       "    <tr>\n",
       "      <th>17</th>\n",
       "      <td>285</td>\n",
       "      <td>3913</td>\n",
       "      <td>17615</td>\n",
       "    </tr>\n",
       "    <tr>\n",
       "      <th>18</th>\n",
       "      <td>72</td>\n",
       "      <td>786</td>\n",
       "      <td>2331</td>\n",
       "    </tr>\n",
       "    <tr>\n",
       "      <th>19</th>\n",
       "      <td>43</td>\n",
       "      <td>263</td>\n",
       "      <td>66</td>\n",
       "    </tr>\n",
       "    <tr>\n",
       "      <th>20</th>\n",
       "      <td>3311</td>\n",
       "      <td>11860</td>\n",
       "      <td>2045</td>\n",
       "    </tr>\n",
       "    <tr>\n",
       "      <th>21</th>\n",
       "      <td>322</td>\n",
       "      <td>5857</td>\n",
       "      <td>8710</td>\n",
       "    </tr>\n",
       "    <tr>\n",
       "      <th>22</th>\n",
       "      <td>811</td>\n",
       "      <td>4624</td>\n",
       "      <td>817</td>\n",
       "    </tr>\n",
       "    <tr>\n",
       "      <th>23</th>\n",
       "      <td>72</td>\n",
       "      <td>768</td>\n",
       "      <td>281</td>\n",
       "    </tr>\n",
       "    <tr>\n",
       "      <th>24</th>\n",
       "      <td>270</td>\n",
       "      <td>908</td>\n",
       "      <td>132</td>\n",
       "    </tr>\n",
       "    <tr>\n",
       "      <th>25</th>\n",
       "      <td>468</td>\n",
       "      <td>4384</td>\n",
       "      <td>772</td>\n",
       "    </tr>\n",
       "    <tr>\n",
       "      <th>26</th>\n",
       "      <td>8028</td>\n",
       "      <td>12645</td>\n",
       "      <td>1942</td>\n",
       "    </tr>\n",
       "    <tr>\n",
       "      <th>27</th>\n",
       "      <td>465</td>\n",
       "      <td>6007</td>\n",
       "      <td>6060</td>\n",
       "    </tr>\n",
       "    <tr>\n",
       "      <th>28</th>\n",
       "      <td>0</td>\n",
       "      <td>157</td>\n",
       "      <td>108</td>\n",
       "    </tr>\n",
       "    <tr>\n",
       "      <th>29</th>\n",
       "      <td>8</td>\n",
       "      <td>349</td>\n",
       "      <td>39</td>\n",
       "    </tr>\n",
       "    <tr>\n",
       "      <th>30</th>\n",
       "      <td>252</td>\n",
       "      <td>2127</td>\n",
       "      <td>307</td>\n",
       "    </tr>\n",
       "  </tbody>\n",
       "</table>\n",
       "</div>"
      ],
      "text/plain": [
       "damage_grade       1      2      3\n",
       "geo_level_1_id                    \n",
       "0                337   3075    599\n",
       "1                411   1985    305\n",
       "2                 85    610    236\n",
       "3                245   4550   2745\n",
       "4                521  11164   2883\n",
       "5                446   2014    230\n",
       "6               2108  16222   6051\n",
       "7               1033  11273   6688\n",
       "8                654   8513   9913\n",
       "9                561   2733    664\n",
       "10              1211  12107   8761\n",
       "11               386   4672   3162\n",
       "12               199   2310    685\n",
       "13              1966   6275   1367\n",
       "14               191   1247    276\n",
       "15               163   1673    484\n",
       "16               200   3188    944\n",
       "17               285   3913  17615\n",
       "18                72    786   2331\n",
       "19                43    263     66\n",
       "20              3311  11860   2045\n",
       "21               322   5857   8710\n",
       "22               811   4624    817\n",
       "23                72    768    281\n",
       "24               270    908    132\n",
       "25               468   4384    772\n",
       "26              8028  12645   1942\n",
       "27               465   6007   6060\n",
       "28                 0    157    108\n",
       "29                 8    349     39\n",
       "30               252   2127    307"
      ]
     },
     "execution_count": 51,
     "metadata": {},
     "output_type": "execute_result"
    }
   ],
   "source": [
    "pd.crosstab(index=train['geo_level_1_id'],columns=train['damage_grade'])"
   ]
  },
  {
   "cell_type": "code",
   "execution_count": 52,
   "metadata": {},
   "outputs": [
    {
     "data": {
      "text/plain": [
       "(72583.39892186754,\n",
       " 0.0,\n",
       " 60,\n",
       " array([[  386.69216158,  2281.90547619,  1342.40236223],\n",
       "        [  260.39778819,  1536.63093772,   903.97127409],\n",
       "        [   89.75577223,   529.65694299,   311.58728478],\n",
       "        [  726.91570639,  4289.59543517,  2523.48885845],\n",
       "        [ 1404.47055844,  8287.90799728,  4875.62144428],\n",
       "        [  259.33730108,  1530.37290724,   900.28979167],\n",
       "        [ 2350.52146385, 13870.64009348,  8159.83844268],\n",
       "        [ 1831.17200625, 10805.91189596,  6356.91609779],\n",
       "        [ 1839.46308725, 10854.83831605,  6385.69859671],\n",
       "        [  381.58254189,  2251.75314753,  1324.66431057],\n",
       "        [ 2128.59043519, 12561.00498847,  7389.40457634],\n",
       "        [  792.47309105,  4676.45550094,  2751.07140801],\n",
       "        [  307.92689207,  1817.1044854 ,  1068.96862253],\n",
       "        [  926.28728209,  5466.1051646 ,  3215.60755331],\n",
       "        [  165.24317251,   975.11493049,   573.641897  ],\n",
       "        [  223.6663712 ,  1319.87551851,   776.45811029],\n",
       "        [  417.63910346,  2464.52618371,  1449.83471284],\n",
       "        [ 2102.94592883, 12409.67443333,  7300.37963784],\n",
       "        [  307.44485248,  1814.25992609,  1067.29522143],\n",
       "        [   35.86374573,   211.63521245,   124.50104182],\n",
       "        [ 1659.75872694,  9794.38660634,  5761.85466671],\n",
       "        [ 1435.41750032,  8470.5287048 ,  4983.05379488],\n",
       "        [  602.74230721,  3556.83695765,  2092.42073515],\n",
       "        [  108.07327677,   637.75019666,   375.17652657],\n",
       "        [  126.29437339,   745.27453847,   438.43108814],\n",
       "        [  542.19813431,  3199.56030867,  1882.24155702],\n",
       "        [ 2180.26507957, 12865.94174619,  7568.79317424],\n",
       "        [ 1208.18403613,  7129.60344742,  4194.21251645],\n",
       "        [   25.54809843,   150.76164328,    88.69025829],\n",
       "        [   38.17753577,   225.28909713,   132.5333671 ],\n",
       "        [  258.95166941,  1528.0972598 ,   898.95107079]]))"
      ]
     },
     "execution_count": 52,
     "metadata": {},
     "output_type": "execute_result"
    }
   ],
   "source": [
    "table=pd.crosstab(index=train['geo_level_1_id'],columns=train['damage_grade'])\n",
    "from scipy.stats import chi2_contingency\n",
    "chi2_contingency(table) "
   ]
  },
  {
   "cell_type": "raw",
   "metadata": {},
   "source": [
    "P - values is less than \n",
    "Yes the geo level id 2 does have an effect on the damage_grade."
   ]
  },
  {
   "cell_type": "code",
   "execution_count": 53,
   "metadata": {},
   "outputs": [],
   "source": [
    "imp_feat.append('geo_level_1_id')"
   ]
  },
  {
   "cell_type": "code",
   "execution_count": 54,
   "metadata": {},
   "outputs": [
    {
     "data": {
      "text/plain": [
       "(134565.3522315247,\n",
       " 0.0,\n",
       " 2826,\n",
       " array([[  3.66350091,  21.61865073,  12.71784836],\n",
       "        [ 19.6672154 , 116.05801973,  68.27476487],\n",
       "        [  7.42340973,  43.80621333,  25.77037694],\n",
       "        ...,\n",
       "        [ 44.92609008, 265.11292743, 155.9609825 ],\n",
       "        [ 27.57266473, 162.70879237,  95.71854291],\n",
       "        [  0.57844751,   3.41347117,   2.00808132]]))"
      ]
     },
     "execution_count": 54,
     "metadata": {},
     "output_type": "execute_result"
    }
   ],
   "source": [
    "table=pd.crosstab(index=train['geo_level_2_id'],columns=train['damage_grade'])\n",
    "from scipy.stats import chi2_contingency\n",
    "chi2_contingency(table)"
   ]
  },
  {
   "cell_type": "raw",
   "metadata": {},
   "source": [
    "Yes the geo level id 3 does have an effect on the damage_grade."
   ]
  },
  {
   "cell_type": "code",
   "execution_count": 55,
   "metadata": {},
   "outputs": [],
   "source": [
    "imp_feat.append('geo_level_2_id')"
   ]
  },
  {
   "cell_type": "code",
   "execution_count": 56,
   "metadata": {},
   "outputs": [
    {
     "data": {
      "text/plain": [
       "(183951.52828868592, 0.0, 23188, array([[0.19281584, 1.13782372, 0.66936044],\n",
       "        [0.57844751, 3.41347117, 2.00808132],\n",
       "        [0.86767127, 5.12020675, 3.01212198],\n",
       "        ...,\n",
       "        [0.57844751, 3.41347117, 2.00808132],\n",
       "        [0.67485543, 3.98238303, 2.34276154],\n",
       "        [0.09640792, 0.56891186, 0.33468022]]))"
      ]
     },
     "execution_count": 56,
     "metadata": {},
     "output_type": "execute_result"
    }
   ],
   "source": [
    "table=pd.crosstab(index=train['geo_level_3_id'],columns=train['damage_grade'])\n",
    "from scipy.stats import chi2_contingency\n",
    "chi2_contingency(table)"
   ]
  },
  {
   "cell_type": "raw",
   "metadata": {},
   "source": [
    "Yes the geo level id 3 does have an effect on the damage_grade."
   ]
  },
  {
   "cell_type": "code",
   "execution_count": 57,
   "metadata": {},
   "outputs": [],
   "source": [
    "imp_feat.append('geo_level_3_id')"
   ]
  },
  {
   "cell_type": "code",
   "execution_count": 58,
   "metadata": {},
   "outputs": [
    {
     "data": {
      "text/plain": [
       "Index(['building_id', 'geo_level_1_id', 'geo_level_2_id', 'geo_level_3_id',\n",
       "       'count_floors_pre_eq', 'age', 'area_percentage', 'height_percentage',\n",
       "       'land_surface_condition', 'foundation_type', 'roof_type',\n",
       "       'ground_floor_type', 'other_floor_type', 'position',\n",
       "       'plan_configuration', 'has_superstructure_adobe_mud',\n",
       "       'has_superstructure_mud_mortar_stone', 'has_superstructure_stone_flag',\n",
       "       'has_superstructure_cement_mortar_stone',\n",
       "       'has_superstructure_mud_mortar_brick',\n",
       "       'has_superstructure_cement_mortar_brick', 'has_superstructure_timber',\n",
       "       'has_superstructure_bamboo', 'has_superstructure_rc_non_engineered',\n",
       "       'has_superstructure_rc_engineered', 'has_superstructure_other',\n",
       "       'legal_ownership_status', 'count_families', 'has_secondary_use',\n",
       "       'has_secondary_use_agriculture', 'has_secondary_use_hotel',\n",
       "       'has_secondary_use_rental', 'has_secondary_use_institution',\n",
       "       'has_secondary_use_school', 'has_secondary_use_industry',\n",
       "       'has_secondary_use_health_post', 'has_secondary_use_gov_office',\n",
       "       'has_secondary_use_use_police', 'has_secondary_use_other',\n",
       "       'damage_grade'],\n",
       "      dtype='object')"
      ]
     },
     "execution_count": 58,
     "metadata": {},
     "output_type": "execute_result"
    }
   ],
   "source": [
    "train.columns"
   ]
  },
  {
   "cell_type": "code",
   "execution_count": 59,
   "metadata": {},
   "outputs": [
    {
     "data": {
      "text/plain": [
       "KruskalResult(statistic=-69595552.84316517, pvalue=1.0)"
      ]
     },
     "execution_count": 59,
     "metadata": {},
     "output_type": "execute_result"
    }
   ],
   "source": [
    "g1=train[train['damage_grade']==1]['height_percentage']\n",
    "g2=train[train['damage_grade']==2]['height_percentage']\n",
    "g3=train[train['damage_grade']==3]['height_percentage']\n",
    "stats.kruskal(g1,g2,g3)"
   ]
  },
  {
   "cell_type": "raw",
   "metadata": {},
   "source": [
    "the null hypothesis states that the mean height_percentage of buildings of all three groups of damage grades is same (age has no effect no damage grade).\n",
    "manwhitney or kruskal can estimate the strength of the association can be derived from it.\n",
    "So as p value > 0.05, we accpet the null hypothesis\n",
    "So area_percentage has no effect on the damage_grade."
   ]
  },
  {
   "cell_type": "code",
   "execution_count": 60,
   "metadata": {},
   "outputs": [
    {
     "data": {
      "text/plain": [
       "(449.6713606103201,\n",
       " 5.115608104233124e-96,\n",
       " 4,\n",
       " array([[  3425.18053269,  20212.30061281,  11890.51885449],\n",
       "        [   801.72825123,   4731.07103964,   2783.20070913],\n",
       "        [ 20897.09121607, 123315.62834755,  72544.28043638]]))"
      ]
     },
     "execution_count": 60,
     "metadata": {},
     "output_type": "execute_result"
    }
   ],
   "source": [
    "table=pd.crosstab(index=train['land_surface_condition'],columns=train['damage_grade'])\n",
    "from scipy.stats import chi2_contingency\n",
    "chi2_contingency(table)"
   ]
  },
  {
   "cell_type": "raw",
   "metadata": {},
   "source": [
    "the null hypothesis states that the land surface condition vs all three groups of damage grades is same (land condition has no effect no damage grade).\n",
    "Land surface and damage_grade are independent of each other.\n",
    "So as p value < 0.05, we reject the null hypothesis\n",
    "So land surface condition has an effect on the damage_grade."
   ]
  },
  {
   "cell_type": "code",
   "execution_count": 61,
   "metadata": {},
   "outputs": [],
   "source": [
    "imp_feat.append('land_surface_condition')"
   ]
  },
  {
   "cell_type": "code",
   "execution_count": 62,
   "metadata": {},
   "outputs": [
    {
     "data": {
      "text/plain": [
       "(48547.16073841265,\n",
       " 0.0,\n",
       " 8,\n",
       " array([[   139.59866616,    823.78437535,    484.61695849],\n",
       "        [  1019.89937107,   6018.51858205,   3540.58204688],\n",
       "        [ 21132.23012959, 124703.20437757,  73360.56549284],\n",
       "        [  1374.77691951,   8112.68314396,   4772.53993653],\n",
       "        [  1457.49491368,   8600.80952107,   5059.69556525]]))"
      ]
     },
     "execution_count": 62,
     "metadata": {},
     "output_type": "execute_result"
    }
   ],
   "source": [
    "table=pd.crosstab(index=train['foundation_type'],columns=train['damage_grade'])\n",
    "from scipy.stats import chi2_contingency\n",
    "chi2_contingency(table)"
   ]
  },
  {
   "cell_type": "raw",
   "metadata": {},
   "source": [
    "the null hypothesis states that the foundation type of all three groups of damage grades is same or independent of each other(foundation type has no effect no damage grade).\n",
    "So as p value < 0.05, we reject the null hypothesis\n",
    "So foundation_type has an effect on the damage_grade."
   ]
  },
  {
   "cell_type": "code",
   "execution_count": 63,
   "metadata": {},
   "outputs": [],
   "source": [
    "imp_feat.append('foundation_type')"
   ]
  },
  {
   "cell_type": "code",
   "execution_count": 64,
   "metadata": {},
   "outputs": [
    {
     "data": {
      "text/plain": [
       "(30251.419274079504,\n",
       " 0.0,\n",
       " 4,\n",
       " array([[ 17627.41665611, 104020.98256722,  61193.60077667],\n",
       "        [  5936.41399688,  35031.31677929,  20608.26922383],\n",
       "        [  1560.16934701,   9206.70065349,   5416.1299995 ]]))"
      ]
     },
     "execution_count": 64,
     "metadata": {},
     "output_type": "execute_result"
    }
   ],
   "source": [
    "\n",
    "table=pd.crosstab(index=train['roof_type'],columns=train['damage_grade'])\n",
    "from scipy.stats import chi2_contingency\n",
    "chi2_contingency(table)"
   ]
  },
  {
   "cell_type": "raw",
   "metadata": {},
   "source": [
    "the null hypothesis states that the roof type of all three groups of damage grades is same or independent of each other(foundation type has no effect no damage grade).\n",
    "So as p value < 0.05, we reject the null hypothesis\n",
    "So roof_type has an effect on the damage_grade."
   ]
  },
  {
   "cell_type": "code",
   "execution_count": 65,
   "metadata": {},
   "outputs": [],
   "source": [
    "imp_feat.append('roof_type')"
   ]
  },
  {
   "cell_type": "code",
   "execution_count": 66,
   "metadata": {},
   "outputs": [
    {
     "data": {
      "text/plain": [
       "(36430.84896491971,\n",
       " 0.0,\n",
       " 8,\n",
       " array([[2.02089315e+04, 1.19254735e+05, 7.01553330e+04],\n",
       "        [4.89752227e+01, 2.89007226e+02, 1.70017552e+02],\n",
       "        [2.37095994e+03, 1.39912494e+04, 8.23079065e+03],\n",
       "        [2.39833979e+03, 1.41528204e+04, 8.32583983e+03],\n",
       "        [9.67935503e+01, 5.71187509e+02, 3.36018941e+02]]))"
      ]
     },
     "execution_count": 66,
     "metadata": {},
     "output_type": "execute_result"
    }
   ],
   "source": [
    "table=pd.crosstab(index=train['ground_floor_type'],columns=train['damage_grade'])\n",
    "from scipy.stats import chi2_contingency\n",
    "chi2_contingency(table)"
   ]
  },
  {
   "cell_type": "raw",
   "metadata": {},
   "source": [
    "the null hypothesis states that the grounf floor type of all three groups of damage grades is same or independent of each other(foundation type has no effect no damage grade).\n",
    "So as p value < 0.05, we reject the null hypothesis\n",
    "So ground_floor_type has an effect on the damage_grade."
   ]
  },
  {
   "cell_type": "code",
   "execution_count": 67,
   "metadata": {},
   "outputs": [],
   "source": [
    "imp_feat.append('ground_floor_type')"
   ]
  },
  {
   "cell_type": "code",
   "execution_count": 68,
   "metadata": {},
   "outputs": [
    {
     "data": {
      "text/plain": [
       "(31487.39192072909,\n",
       " 0.0,\n",
       " 6,\n",
       " array([[ 3841.18070153, 22667.15529488, 13334.66400359],\n",
       "        [15934.49360517, 94030.89028054, 55316.61611429],\n",
       "        [ 1159.59444515,  6842.87186926,  4025.5336856 ],\n",
       "        [ 4188.73124815, 24718.08255532, 14541.18619652]]))"
      ]
     },
     "execution_count": 68,
     "metadata": {},
     "output_type": "execute_result"
    }
   ],
   "source": [
    "\n",
    "table=pd.crosstab(index=train['other_floor_type'],columns=train['damage_grade'])\n",
    "from scipy.stats import chi2_contingency\n",
    "chi2_contingency(table)"
   ]
  },
  {
   "cell_type": "raw",
   "metadata": {},
   "source": [
    "the null hypothesis states that the other floor type of all three groups of damage grades is same or independent of each other(foundation type has no effect no damage grade).\n",
    "So as p value < 0.05, we reject the null hypothesis\n",
    "So other_floor_type has an effect on the damage_grade."
   ]
  },
  {
   "cell_type": "code",
   "execution_count": 69,
   "metadata": {},
   "outputs": [],
   "source": [
    "imp_feat.append('other_floor_type')"
   ]
  },
  {
   "cell_type": "code",
   "execution_count": 70,
   "metadata": {},
   "outputs": [
    {
     "data": {
      "text/plain": [
       "(1079.9274356300548,\n",
       " 4.592452675444982e-230,\n",
       " 6,\n",
       " array([[  1280.4899751 ,   7556.28734349,   4445.22268142],\n",
       "        [   224.91967414,   1327.27137271,    780.80895315],\n",
       "        [ 19483.07627369, 114971.39807599,  67635.52565032],\n",
       "        [  4135.51407708,  24404.04320782,  14356.44271511]]))"
      ]
     },
     "execution_count": 70,
     "metadata": {},
     "output_type": "execute_result"
    }
   ],
   "source": [
    "table=pd.crosstab(index=train['position'],columns=train['damage_grade'])\n",
    "from scipy.stats import chi2_contingency\n",
    "chi2_contingency(table)"
   ]
  },
  {
   "cell_type": "raw",
   "metadata": {},
   "source": [
    "the null hypothesis states that the position type of all three groups of damage grades is same or independent of each other(foundation type has no effect no damage grade).\n",
    "So as p value < 0.05, we reject the null hypothesis\n",
    "So postion of the building  has an effect on the damage_grade."
   ]
  },
  {
   "cell_type": "code",
   "execution_count": 71,
   "metadata": {},
   "outputs": [],
   "source": [
    "imp_feat.append('position')"
   ]
  },
  {
   "cell_type": "code",
   "execution_count": 72,
   "metadata": {},
   "outputs": [
    {
     "data": {
      "text/plain": [
       "(1734.1171250474172,\n",
       " 0.0,\n",
       " 18,\n",
       " array([[2.42947955e+01, 1.43365789e+02, 8.43394154e+01],\n",
       "        [3.13325736e+01, 1.84896355e+02, 1.08771071e+02],\n",
       "        [2.41089210e+04, 1.42268927e+05, 8.36941520e+04],\n",
       "        [2.12097421e+00, 1.25160610e+01, 7.36296484e+00],\n",
       "        [4.43476426e+00, 2.61699456e+01, 1.53952901e+01],\n",
       "        [3.66350091e+00, 2.16186507e+01, 1.27178484e+01],\n",
       "        [1.53288591e+01, 9.04569860e+01, 5.32141550e+01],\n",
       "        [5.48753873e+02, 3.23824632e+03, 1.90499981e+03],\n",
       "        [3.33571398e+01, 1.96843504e+02, 1.15799356e+02],\n",
       "        [3.51792495e+02, 2.07595938e+03, 1.22124812e+03]]))"
      ]
     },
     "execution_count": 72,
     "metadata": {},
     "output_type": "execute_result"
    }
   ],
   "source": [
    "#plan_configuration (type: categorical): building plan configuration\n",
    "table=pd.crosstab(index=train['plan_configuration'],columns=train['damage_grade'])\n",
    "from scipy.stats import chi2_contingency\n",
    "chi2_contingency(table)"
   ]
  },
  {
   "cell_type": "code",
   "execution_count": 73,
   "metadata": {},
   "outputs": [],
   "source": [
    "imp_feat.append('plan_configuration')"
   ]
  },
  {
   "cell_type": "code",
   "execution_count": 74,
   "metadata": {},
   "outputs": [],
   "source": [
    "supstr=['has_superstructure_adobe_mud',\n",
    "       'has_superstructure_mud_mortar_stone', 'has_superstructure_stone_flag',\n",
    "       'has_superstructure_cement_mortar_stone',\n",
    "       'has_superstructure_mud_mortar_brick',\n",
    "       'has_superstructure_cement_mortar_brick', 'has_superstructure_timber',\n",
    "       'has_superstructure_bamboo', 'has_superstructure_rc_non_engineered',\n",
    "       'has_superstructure_rc_engineered', 'has_superstructure_other']\n",
    "for x in supstr:\n",
    "    table=pd.crosstab(index=train[x],columns=train['damage_grade'])\n",
    "    from scipy.stats import chi2_contingency\n",
    "    if (chi2_contingency(table)[1]<0.05):\n",
    "        imp_feat.append(x)"
   ]
  },
  {
   "cell_type": "code",
   "execution_count": 75,
   "metadata": {},
   "outputs": [],
   "source": [
    "supstr2 = ['legal_ownership_status', 'count_families', 'has_secondary_use',\n",
    "       'has_secondary_use_agriculture', 'has_secondary_use_hotel',\n",
    "       'has_secondary_use_rental', 'has_secondary_use_institution',\n",
    "       'has_secondary_use_school', 'has_secondary_use_industry',\n",
    "       'has_secondary_use_health_post', 'has_secondary_use_gov_office',\n",
    "       'has_secondary_use_use_police', 'has_secondary_use_other']\n",
    "for x in supstr2:\n",
    "    table=pd.crosstab(index=train[x],columns=train['damage_grade'])\n",
    "    from scipy.stats import chi2_contingency\n",
    "    if (chi2_contingency(table)[1]<0.05):\n",
    "        imp_feat.append(x)"
   ]
  },
  {
   "cell_type": "code",
   "execution_count": 76,
   "metadata": {},
   "outputs": [
    {
     "data": {
      "text/plain": [
       "(12372.168634452973,\n",
       " 0.0,\n",
       " 16,\n",
       " array([[3.89883264e+03, 2.30073646e+04, 1.35348028e+04],\n",
       "        [1.50996974e+04, 8.91046825e+04, 5.24186201e+04],\n",
       "        [5.36191921e+03, 3.16411710e+04, 1.86139098e+04],\n",
       "        [5.22916551e+02, 3.08577794e+03, 1.81530551e+03],\n",
       "        [2.16532185e+02, 1.27777604e+03, 7.51691774e+02],\n",
       "        [2.01492550e+01, 1.18902579e+02, 6.99481660e+01],\n",
       "        [3.75990883e+00, 2.21875626e+01, 1.30525286e+01],\n",
       "        [9.64079186e-02, 5.68911861e-01, 3.34680220e-01],\n",
       "        [9.64079186e-02, 5.68911861e-01, 3.34680220e-01]]))"
      ]
     },
     "execution_count": 76,
     "metadata": {},
     "output_type": "execute_result"
    }
   ],
   "source": [
    "table=pd.crosstab(index=train['count_floors_pre_eq'],columns=train['damage_grade'])\n",
    "from scipy.stats import chi2_contingency\n",
    "chi2_contingency(table)"
   ]
  },
  {
   "cell_type": "code",
   "execution_count": 77,
   "metadata": {},
   "outputs": [],
   "source": [
    "imp_feat.append('count_floors_pre_eq')"
   ]
  },
  {
   "cell_type": "code",
   "execution_count": 78,
   "metadata": {},
   "outputs": [
    {
     "data": {
      "text/plain": [
       "Index(['building_id', 'geo_level_1_id', 'geo_level_2_id', 'geo_level_3_id',\n",
       "       'count_floors_pre_eq', 'age', 'area_percentage', 'height_percentage',\n",
       "       'land_surface_condition', 'foundation_type', 'roof_type',\n",
       "       'ground_floor_type', 'other_floor_type', 'position',\n",
       "       'plan_configuration', 'has_superstructure_adobe_mud',\n",
       "       'has_superstructure_mud_mortar_stone', 'has_superstructure_stone_flag',\n",
       "       'has_superstructure_cement_mortar_stone',\n",
       "       'has_superstructure_mud_mortar_brick',\n",
       "       'has_superstructure_cement_mortar_brick', 'has_superstructure_timber',\n",
       "       'has_superstructure_bamboo', 'has_superstructure_rc_non_engineered',\n",
       "       'has_superstructure_rc_engineered', 'has_superstructure_other',\n",
       "       'legal_ownership_status', 'count_families', 'has_secondary_use',\n",
       "       'has_secondary_use_agriculture', 'has_secondary_use_hotel',\n",
       "       'has_secondary_use_rental', 'has_secondary_use_institution',\n",
       "       'has_secondary_use_school', 'has_secondary_use_industry',\n",
       "       'has_secondary_use_health_post', 'has_secondary_use_gov_office',\n",
       "       'has_secondary_use_use_police', 'has_secondary_use_other',\n",
       "       'damage_grade'],\n",
       "      dtype='object')"
      ]
     },
     "execution_count": 78,
     "metadata": {},
     "output_type": "execute_result"
    }
   ],
   "source": [
    "data.columns"
   ]
  },
  {
   "cell_type": "code",
   "execution_count": 79,
   "metadata": {},
   "outputs": [
    {
     "data": {
      "text/plain": [
       "['geo_level_1_id',\n",
       " 'geo_level_2_id',\n",
       " 'geo_level_3_id',\n",
       " 'land_surface_condition',\n",
       " 'foundation_type',\n",
       " 'roof_type',\n",
       " 'ground_floor_type',\n",
       " 'other_floor_type',\n",
       " 'position',\n",
       " 'plan_configuration',\n",
       " 'has_superstructure_adobe_mud',\n",
       " 'has_superstructure_mud_mortar_stone',\n",
       " 'has_superstructure_stone_flag',\n",
       " 'has_superstructure_cement_mortar_stone',\n",
       " 'has_superstructure_mud_mortar_brick',\n",
       " 'has_superstructure_cement_mortar_brick',\n",
       " 'has_superstructure_timber',\n",
       " 'has_superstructure_bamboo',\n",
       " 'has_superstructure_rc_non_engineered',\n",
       " 'has_superstructure_rc_engineered',\n",
       " 'has_superstructure_other',\n",
       " 'legal_ownership_status',\n",
       " 'count_families',\n",
       " 'has_secondary_use',\n",
       " 'has_secondary_use_agriculture',\n",
       " 'has_secondary_use_hotel',\n",
       " 'has_secondary_use_rental',\n",
       " 'has_secondary_use_institution',\n",
       " 'has_secondary_use_school',\n",
       " 'has_secondary_use_industry',\n",
       " 'has_secondary_use_health_post',\n",
       " 'has_secondary_use_gov_office',\n",
       " 'has_secondary_use_other',\n",
       " 'count_floors_pre_eq']"
      ]
     },
     "execution_count": 79,
     "metadata": {},
     "output_type": "execute_result"
    }
   ],
   "source": [
    "imp_feat"
   ]
  },
  {
   "cell_type": "code",
   "execution_count": 80,
   "metadata": {},
   "outputs": [
    {
     "data": {
      "text/plain": [
       "34"
      ]
     },
     "execution_count": 80,
     "metadata": {},
     "output_type": "execute_result"
    }
   ],
   "source": [
    "len(imp_feat)"
   ]
  },
  {
   "cell_type": "code",
   "execution_count": 81,
   "metadata": {},
   "outputs": [
    {
     "name": "stdout",
     "output_type": "stream",
     "text": [
      "<class 'pandas.core.frame.DataFrame'>\n",
      "RangeIndex: 347469 entries, 0 to 347468\n",
      "Data columns (total 40 columns):\n",
      "building_id                               347469 non-null int64\n",
      "geo_level_1_id                            347469 non-null int64\n",
      "geo_level_2_id                            347469 non-null int64\n",
      "geo_level_3_id                            347469 non-null int64\n",
      "count_floors_pre_eq                       347469 non-null int64\n",
      "age                                       347469 non-null int64\n",
      "area_percentage                           347469 non-null int64\n",
      "height_percentage                         347469 non-null int64\n",
      "land_surface_condition                    347469 non-null object\n",
      "foundation_type                           347469 non-null object\n",
      "roof_type                                 347469 non-null object\n",
      "ground_floor_type                         347469 non-null object\n",
      "other_floor_type                          347469 non-null object\n",
      "position                                  347469 non-null object\n",
      "plan_configuration                        347469 non-null object\n",
      "has_superstructure_adobe_mud              347469 non-null int64\n",
      "has_superstructure_mud_mortar_stone       347469 non-null int64\n",
      "has_superstructure_stone_flag             347469 non-null int64\n",
      "has_superstructure_cement_mortar_stone    347469 non-null int64\n",
      "has_superstructure_mud_mortar_brick       347469 non-null int64\n",
      "has_superstructure_cement_mortar_brick    347469 non-null int64\n",
      "has_superstructure_timber                 347469 non-null int64\n",
      "has_superstructure_bamboo                 347469 non-null int64\n",
      "has_superstructure_rc_non_engineered      347469 non-null int64\n",
      "has_superstructure_rc_engineered          347469 non-null int64\n",
      "has_superstructure_other                  347469 non-null int64\n",
      "legal_ownership_status                    347469 non-null object\n",
      "count_families                            347469 non-null int64\n",
      "has_secondary_use                         347469 non-null int64\n",
      "has_secondary_use_agriculture             347469 non-null int64\n",
      "has_secondary_use_hotel                   347469 non-null int64\n",
      "has_secondary_use_rental                  347469 non-null int64\n",
      "has_secondary_use_institution             347469 non-null int64\n",
      "has_secondary_use_school                  347469 non-null int64\n",
      "has_secondary_use_industry                347469 non-null int64\n",
      "has_secondary_use_health_post             347469 non-null int64\n",
      "has_secondary_use_gov_office              347469 non-null int64\n",
      "has_secondary_use_use_police              347469 non-null int64\n",
      "has_secondary_use_other                   347469 non-null int64\n",
      "damage_grade                              260601 non-null float64\n",
      "dtypes: float64(1), int64(31), object(8)\n",
      "memory usage: 106.0+ MB\n"
     ]
    }
   ],
   "source": [
    "data.info()"
   ]
  },
  {
   "cell_type": "code",
   "execution_count": 82,
   "metadata": {},
   "outputs": [
    {
     "name": "stdout",
     "output_type": "stream",
     "text": [
      "has_secondary_use\n",
      "0    231445\n",
      "1     29156\n",
      "Name: has_secondary_use, dtype: int64\n",
      "---------------------\n",
      "has_secondary_use_agriculture\n",
      "0    243824\n",
      "1     16777\n",
      "Name: has_secondary_use_agriculture, dtype: int64\n",
      "---------------------\n",
      "has_secondary_use_hotel\n",
      "0    251838\n",
      "1      8763\n",
      "Name: has_secondary_use_hotel, dtype: int64\n",
      "---------------------\n",
      "has_secondary_use_rental\n",
      "0    258490\n",
      "1      2111\n",
      "Name: has_secondary_use_rental, dtype: int64\n",
      "---------------------\n",
      "has_secondary_use_institution\n",
      "0    260356\n",
      "1       245\n",
      "Name: has_secondary_use_institution, dtype: int64\n",
      "---------------------\n",
      "has_secondary_use_school\n",
      "0    260507\n",
      "1        94\n",
      "Name: has_secondary_use_school, dtype: int64\n",
      "---------------------\n",
      "has_secondary_use_industry\n",
      "0    260322\n",
      "1       279\n",
      "Name: has_secondary_use_industry, dtype: int64\n",
      "---------------------\n",
      "has_secondary_use_health_post\n",
      "0    260552\n",
      "1        49\n",
      "Name: has_secondary_use_health_post, dtype: int64\n",
      "---------------------\n",
      "has_secondary_use_gov_office\n",
      "0    260563\n",
      "1        38\n",
      "Name: has_secondary_use_gov_office, dtype: int64\n",
      "---------------------\n",
      "has_secondary_use_use_police\n",
      "0    260578\n",
      "1        23\n",
      "Name: has_secondary_use_use_police, dtype: int64\n",
      "---------------------\n",
      "has_secondary_use_other\n",
      "0    259267\n",
      "1      1334\n",
      "Name: has_secondary_use_other, dtype: int64\n",
      "---------------------\n"
     ]
    }
   ],
   "source": [
    "binary_cols=[\"has_secondary_use\",\"has_secondary_use_agriculture\",\n",
    "          \"has_secondary_use_hotel\",\"has_secondary_use_rental\",\"has_secondary_use_institution\",\"has_secondary_use_school\",\"has_secondary_use_industry\",\n",
    "          \"has_secondary_use_health_post\",\"has_secondary_use_gov_office\",\"has_secondary_use_use_police\",\"has_secondary_use_other\"]\n",
    "for col in binary_cols:\n",
    "    print(col)\n",
    "    print( train[col].value_counts())\n",
    "    print(\"---------------------\")"
   ]
  },
  {
   "cell_type": "code",
   "execution_count": 83,
   "metadata": {},
   "outputs": [],
   "source": [
    "#--------------------"
   ]
  },
  {
   "cell_type": "code",
   "execution_count": 84,
   "metadata": {},
   "outputs": [],
   "source": [
    "# Import label encoder \n",
    "from sklearn import preprocessing \n",
    "  \n",
    "# label_encoder object knows how to understand word labels. \n",
    "label_encoder = preprocessing.LabelEncoder() \n",
    "  \n",
    "# Encode labels in column 'species'. \n",
    "data['land_surface_condition'] = label_encoder.fit_transform(data['land_surface_condition']) \n",
    "data['foundation_type'] = label_encoder.fit_transform(data['foundation_type'])\n",
    "data['roof_type'] = label_encoder.fit_transform(data['roof_type'])\n",
    "data['ground_floor_type'] = label_encoder.fit_transform(data['ground_floor_type'])\n",
    "data['other_floor_type'] = label_encoder.fit_transform(data['other_floor_type'])\n",
    "data['position'] = label_encoder.fit_transform(data['position'])\n",
    "data['plan_configuration'] = label_encoder.fit_transform(data['plan_configuration'])\n",
    "data['legal_ownership_status'] = label_encoder.fit_transform(data['legal_ownership_status'])\n"
   ]
  },
  {
   "cell_type": "code",
   "execution_count": 85,
   "metadata": {},
   "outputs": [],
   "source": [
    "#Dummification also churns out the same accuracy score. the training and testing score remain the same."
   ]
  },
  {
   "cell_type": "code",
   "execution_count": 86,
   "metadata": {},
   "outputs": [],
   "source": [
    "newtrain = data.loc[0:260600]"
   ]
  },
  {
   "cell_type": "code",
   "execution_count": 87,
   "metadata": {},
   "outputs": [
    {
     "data": {
      "text/plain": [
       "(260601, 40)"
      ]
     },
     "execution_count": 87,
     "metadata": {},
     "output_type": "execute_result"
    }
   ],
   "source": [
    "newtrain.shape"
   ]
  },
  {
   "cell_type": "code",
   "execution_count": 88,
   "metadata": {},
   "outputs": [],
   "source": [
    "newtest = data.loc[260601:]"
   ]
  },
  {
   "cell_type": "code",
   "execution_count": 89,
   "metadata": {},
   "outputs": [
    {
     "name": "stderr",
     "output_type": "stream",
     "text": [
      "C:\\Users\\Navika\\Anaconda3\\lib\\site-packages\\pandas\\core\\frame.py:3940: SettingWithCopyWarning: \n",
      "A value is trying to be set on a copy of a slice from a DataFrame\n",
      "\n",
      "See the caveats in the documentation: http://pandas.pydata.org/pandas-docs/stable/indexing.html#indexing-view-versus-copy\n",
      "  errors=errors)\n"
     ]
    }
   ],
   "source": [
    "newtest.drop(['damage_grade'],axis=1,inplace=True)"
   ]
  },
  {
   "cell_type": "code",
   "execution_count": 90,
   "metadata": {},
   "outputs": [
    {
     "data": {
      "text/html": [
       "<div>\n",
       "<style scoped>\n",
       "    .dataframe tbody tr th:only-of-type {\n",
       "        vertical-align: middle;\n",
       "    }\n",
       "\n",
       "    .dataframe tbody tr th {\n",
       "        vertical-align: top;\n",
       "    }\n",
       "\n",
       "    .dataframe thead th {\n",
       "        text-align: right;\n",
       "    }\n",
       "</style>\n",
       "<table border=\"1\" class=\"dataframe\">\n",
       "  <thead>\n",
       "    <tr style=\"text-align: right;\">\n",
       "      <th></th>\n",
       "      <th>building_id</th>\n",
       "      <th>geo_level_1_id</th>\n",
       "      <th>geo_level_2_id</th>\n",
       "      <th>geo_level_3_id</th>\n",
       "      <th>count_floors_pre_eq</th>\n",
       "      <th>age</th>\n",
       "      <th>area_percentage</th>\n",
       "      <th>height_percentage</th>\n",
       "      <th>land_surface_condition</th>\n",
       "      <th>foundation_type</th>\n",
       "      <th>...</th>\n",
       "      <th>has_secondary_use_agriculture</th>\n",
       "      <th>has_secondary_use_hotel</th>\n",
       "      <th>has_secondary_use_rental</th>\n",
       "      <th>has_secondary_use_institution</th>\n",
       "      <th>has_secondary_use_school</th>\n",
       "      <th>has_secondary_use_industry</th>\n",
       "      <th>has_secondary_use_health_post</th>\n",
       "      <th>has_secondary_use_gov_office</th>\n",
       "      <th>has_secondary_use_use_police</th>\n",
       "      <th>has_secondary_use_other</th>\n",
       "    </tr>\n",
       "  </thead>\n",
       "  <tbody>\n",
       "    <tr>\n",
       "      <th>260601</th>\n",
       "      <td>300051</td>\n",
       "      <td>17</td>\n",
       "      <td>596</td>\n",
       "      <td>11307</td>\n",
       "      <td>3</td>\n",
       "      <td>20</td>\n",
       "      <td>7</td>\n",
       "      <td>6</td>\n",
       "      <td>2</td>\n",
       "      <td>2</td>\n",
       "      <td>...</td>\n",
       "      <td>0</td>\n",
       "      <td>0</td>\n",
       "      <td>0</td>\n",
       "      <td>0</td>\n",
       "      <td>0</td>\n",
       "      <td>0</td>\n",
       "      <td>0</td>\n",
       "      <td>0</td>\n",
       "      <td>0</td>\n",
       "      <td>0</td>\n",
       "    </tr>\n",
       "    <tr>\n",
       "      <th>260602</th>\n",
       "      <td>99355</td>\n",
       "      <td>6</td>\n",
       "      <td>141</td>\n",
       "      <td>11987</td>\n",
       "      <td>2</td>\n",
       "      <td>25</td>\n",
       "      <td>13</td>\n",
       "      <td>5</td>\n",
       "      <td>2</td>\n",
       "      <td>2</td>\n",
       "      <td>...</td>\n",
       "      <td>1</td>\n",
       "      <td>0</td>\n",
       "      <td>0</td>\n",
       "      <td>0</td>\n",
       "      <td>0</td>\n",
       "      <td>0</td>\n",
       "      <td>0</td>\n",
       "      <td>0</td>\n",
       "      <td>0</td>\n",
       "      <td>0</td>\n",
       "    </tr>\n",
       "    <tr>\n",
       "      <th>260603</th>\n",
       "      <td>890251</td>\n",
       "      <td>22</td>\n",
       "      <td>19</td>\n",
       "      <td>10044</td>\n",
       "      <td>2</td>\n",
       "      <td>5</td>\n",
       "      <td>4</td>\n",
       "      <td>5</td>\n",
       "      <td>2</td>\n",
       "      <td>2</td>\n",
       "      <td>...</td>\n",
       "      <td>0</td>\n",
       "      <td>0</td>\n",
       "      <td>0</td>\n",
       "      <td>0</td>\n",
       "      <td>0</td>\n",
       "      <td>0</td>\n",
       "      <td>0</td>\n",
       "      <td>0</td>\n",
       "      <td>0</td>\n",
       "      <td>0</td>\n",
       "    </tr>\n",
       "    <tr>\n",
       "      <th>260604</th>\n",
       "      <td>745817</td>\n",
       "      <td>26</td>\n",
       "      <td>39</td>\n",
       "      <td>633</td>\n",
       "      <td>1</td>\n",
       "      <td>0</td>\n",
       "      <td>19</td>\n",
       "      <td>3</td>\n",
       "      <td>2</td>\n",
       "      <td>2</td>\n",
       "      <td>...</td>\n",
       "      <td>0</td>\n",
       "      <td>0</td>\n",
       "      <td>1</td>\n",
       "      <td>0</td>\n",
       "      <td>0</td>\n",
       "      <td>0</td>\n",
       "      <td>0</td>\n",
       "      <td>0</td>\n",
       "      <td>0</td>\n",
       "      <td>0</td>\n",
       "    </tr>\n",
       "    <tr>\n",
       "      <th>260605</th>\n",
       "      <td>421793</td>\n",
       "      <td>17</td>\n",
       "      <td>289</td>\n",
       "      <td>7970</td>\n",
       "      <td>3</td>\n",
       "      <td>15</td>\n",
       "      <td>8</td>\n",
       "      <td>7</td>\n",
       "      <td>2</td>\n",
       "      <td>2</td>\n",
       "      <td>...</td>\n",
       "      <td>0</td>\n",
       "      <td>0</td>\n",
       "      <td>0</td>\n",
       "      <td>0</td>\n",
       "      <td>0</td>\n",
       "      <td>0</td>\n",
       "      <td>0</td>\n",
       "      <td>0</td>\n",
       "      <td>0</td>\n",
       "      <td>0</td>\n",
       "    </tr>\n",
       "  </tbody>\n",
       "</table>\n",
       "<p>5 rows × 39 columns</p>\n",
       "</div>"
      ],
      "text/plain": [
       "        building_id  geo_level_1_id  geo_level_2_id  geo_level_3_id  \\\n",
       "260601       300051              17             596           11307   \n",
       "260602        99355               6             141           11987   \n",
       "260603       890251              22              19           10044   \n",
       "260604       745817              26              39             633   \n",
       "260605       421793              17             289            7970   \n",
       "\n",
       "        count_floors_pre_eq  age  area_percentage  height_percentage  \\\n",
       "260601                    3   20                7                  6   \n",
       "260602                    2   25               13                  5   \n",
       "260603                    2    5                4                  5   \n",
       "260604                    1    0               19                  3   \n",
       "260605                    3   15                8                  7   \n",
       "\n",
       "        land_surface_condition  foundation_type  ...  \\\n",
       "260601                       2                2  ...   \n",
       "260602                       2                2  ...   \n",
       "260603                       2                2  ...   \n",
       "260604                       2                2  ...   \n",
       "260605                       2                2  ...   \n",
       "\n",
       "        has_secondary_use_agriculture  has_secondary_use_hotel  \\\n",
       "260601                              0                        0   \n",
       "260602                              1                        0   \n",
       "260603                              0                        0   \n",
       "260604                              0                        0   \n",
       "260605                              0                        0   \n",
       "\n",
       "        has_secondary_use_rental  has_secondary_use_institution  \\\n",
       "260601                         0                              0   \n",
       "260602                         0                              0   \n",
       "260603                         0                              0   \n",
       "260604                         1                              0   \n",
       "260605                         0                              0   \n",
       "\n",
       "        has_secondary_use_school  has_secondary_use_industry  \\\n",
       "260601                         0                           0   \n",
       "260602                         0                           0   \n",
       "260603                         0                           0   \n",
       "260604                         0                           0   \n",
       "260605                         0                           0   \n",
       "\n",
       "        has_secondary_use_health_post  has_secondary_use_gov_office  \\\n",
       "260601                              0                             0   \n",
       "260602                              0                             0   \n",
       "260603                              0                             0   \n",
       "260604                              0                             0   \n",
       "260605                              0                             0   \n",
       "\n",
       "        has_secondary_use_use_police  has_secondary_use_other  \n",
       "260601                             0                        0  \n",
       "260602                             0                        0  \n",
       "260603                             0                        0  \n",
       "260604                             0                        0  \n",
       "260605                             0                        0  \n",
       "\n",
       "[5 rows x 39 columns]"
      ]
     },
     "execution_count": 90,
     "metadata": {},
     "output_type": "execute_result"
    }
   ],
   "source": [
    "newtest.head()"
   ]
  },
  {
   "cell_type": "code",
   "execution_count": 91,
   "metadata": {},
   "outputs": [
    {
     "data": {
      "text/plain": [
       "(86868, 39)"
      ]
     },
     "execution_count": 91,
     "metadata": {},
     "output_type": "execute_result"
    }
   ],
   "source": [
    "newtest.shape"
   ]
  },
  {
   "cell_type": "code",
   "execution_count": 92,
   "metadata": {},
   "outputs": [],
   "source": [
    "#----------------"
   ]
  },
  {
   "cell_type": "code",
   "execution_count": 93,
   "metadata": {},
   "outputs": [],
   "source": [
    "newtrain.drop(['building_id','area_percentage','height_percentage','age','has_secondary_use_use_police','has_secondary_use_health_post', 'has_secondary_use_gov_office','has_secondary_use_school', 'has_secondary_use_institution'],axis=1,inplace = True)"
   ]
  },
  {
   "cell_type": "code",
   "execution_count": 94,
   "metadata": {},
   "outputs": [],
   "source": [
    "newtest.drop(['building_id','area_percentage','height_percentage','age','has_secondary_use_use_police','has_secondary_use_health_post', 'has_secondary_use_gov_office','has_secondary_use_school', 'has_secondary_use_institution'],axis=1,inplace=True)"
   ]
  },
  {
   "cell_type": "code",
   "execution_count": 95,
   "metadata": {},
   "outputs": [
    {
     "data": {
      "text/plain": [
       "(86868, 30)"
      ]
     },
     "execution_count": 95,
     "metadata": {},
     "output_type": "execute_result"
    }
   ],
   "source": [
    "newtest.shape"
   ]
  },
  {
   "cell_type": "code",
   "execution_count": 96,
   "metadata": {},
   "outputs": [
    {
     "data": {
      "text/plain": [
       "(260601, 31)"
      ]
     },
     "execution_count": 96,
     "metadata": {},
     "output_type": "execute_result"
    }
   ],
   "source": [
    "newtrain.shape"
   ]
  },
  {
   "cell_type": "code",
   "execution_count": 97,
   "metadata": {},
   "outputs": [],
   "source": [
    "#---------------"
   ]
  },
  {
   "cell_type": "code",
   "execution_count": 98,
   "metadata": {},
   "outputs": [],
   "source": [
    "x = newtrain.drop(['damage_grade'],axis=1)\n",
    "y = newtrain.damage_grade"
   ]
  },
  {
   "cell_type": "code",
   "execution_count": 99,
   "metadata": {},
   "outputs": [
    {
     "data": {
      "text/plain": [
       "Index(['geo_level_1_id', 'geo_level_2_id', 'geo_level_3_id',\n",
       "       'count_floors_pre_eq', 'land_surface_condition', 'foundation_type',\n",
       "       'roof_type', 'ground_floor_type', 'other_floor_type', 'position',\n",
       "       'plan_configuration', 'has_superstructure_adobe_mud',\n",
       "       'has_superstructure_mud_mortar_stone', 'has_superstructure_stone_flag',\n",
       "       'has_superstructure_cement_mortar_stone',\n",
       "       'has_superstructure_mud_mortar_brick',\n",
       "       'has_superstructure_cement_mortar_brick', 'has_superstructure_timber',\n",
       "       'has_superstructure_bamboo', 'has_superstructure_rc_non_engineered',\n",
       "       'has_superstructure_rc_engineered', 'has_superstructure_other',\n",
       "       'legal_ownership_status', 'count_families', 'has_secondary_use',\n",
       "       'has_secondary_use_agriculture', 'has_secondary_use_hotel',\n",
       "       'has_secondary_use_rental', 'has_secondary_use_industry',\n",
       "       'has_secondary_use_other'],\n",
       "      dtype='object')"
      ]
     },
     "execution_count": 99,
     "metadata": {},
     "output_type": "execute_result"
    }
   ],
   "source": [
    "x.columns"
   ]
  },
  {
   "cell_type": "code",
   "execution_count": 100,
   "metadata": {},
   "outputs": [],
   "source": [
    "#x = pd.get_dummies(x)"
   ]
  },
  {
   "cell_type": "code",
   "execution_count": 101,
   "metadata": {},
   "outputs": [],
   "source": [
    "#newtest = pd.get_dummies(newtest)"
   ]
  },
  {
   "cell_type": "code",
   "execution_count": 102,
   "metadata": {},
   "outputs": [
    {
     "name": "stdout",
     "output_type": "stream",
     "text": [
      "(260601, 30)\n",
      "(86868, 30)\n"
     ]
    }
   ],
   "source": [
    "print(x.shape)\n",
    "print(newtest.shape)"
   ]
  },
  {
   "cell_type": "code",
   "execution_count": 103,
   "metadata": {},
   "outputs": [
    {
     "data": {
      "text/plain": [
       "'from imblearn.over_sampling import SMOTE\\n\\n#want smote to focus on minority report\\ns = SMOTE(ratio = \"minority\")\\n\\n# Fit the model to generate the data.\\ns.fit_sample(x,y)'"
      ]
     },
     "execution_count": 103,
     "metadata": {},
     "output_type": "execute_result"
    }
   ],
   "source": [
    "'''from imblearn.over_sampling import SMOTE\n",
    "\n",
    "#want smote to focus on minority report\n",
    "s = SMOTE(ratio = \"minority\")\n",
    "\n",
    "# Fit the model to generate the data.\n",
    "s.fit_sample(x,y)'''"
   ]
  },
  {
   "cell_type": "code",
   "execution_count": 104,
   "metadata": {},
   "outputs": [],
   "source": [
    "#Didn't have any effect.as our initial suspision, the class was not imbalalced"
   ]
  },
  {
   "cell_type": "code",
   "execution_count": 105,
   "metadata": {},
   "outputs": [],
   "source": [
    "# splitting train and test"
   ]
  },
  {
   "cell_type": "code",
   "execution_count": 106,
   "metadata": {},
   "outputs": [],
   "source": [
    "from sklearn.metrics import r2_score\n",
    "from sklearn.metrics import accuracy_score, cohen_kappa_score, matthews_corrcoef"
   ]
  },
  {
   "cell_type": "code",
   "execution_count": 107,
   "metadata": {},
   "outputs": [],
   "source": [
    "from sklearn.model_selection import train_test_split\n",
    "xtrain, xtest, ytrain, ytest = train_test_split(x, y, test_size = 0.3,random_state = 123)"
   ]
  },
  {
   "cell_type": "code",
   "execution_count": 108,
   "metadata": {},
   "outputs": [
    {
     "name": "stderr",
     "output_type": "stream",
     "text": [
      "C:\\Users\\Navika\\Anaconda3\\lib\\site-packages\\sklearn\\linear_model\\logistic.py:432: FutureWarning: Default solver will be changed to 'lbfgs' in 0.22. Specify a solver to silence this warning.\n",
      "  FutureWarning)\n",
      "C:\\Users\\Navika\\Anaconda3\\lib\\site-packages\\sklearn\\linear_model\\logistic.py:469: FutureWarning: Default multi_class will be changed to 'auto' in 0.22. Specify the multi_class option to silence this warning.\n",
      "  \"this warning.\", FutureWarning)\n"
     ]
    }
   ],
   "source": [
    "from sklearn.linear_model import LogisticRegression\n",
    "lrr = LogisticRegression()\n",
    "pred_lr = lrr.fit(xtrain,ytrain).predict(xtest)"
   ]
  },
  {
   "cell_type": "code",
   "execution_count": 109,
   "metadata": {},
   "outputs": [
    {
     "data": {
      "text/plain": [
       "0.5694478198027654"
      ]
     },
     "execution_count": 109,
     "metadata": {},
     "output_type": "execute_result"
    }
   ],
   "source": [
    "accuracy_score(pred_lr,ytest)# logistic doesnt perform good with categirical variables"
   ]
  },
  {
   "cell_type": "code",
   "execution_count": 110,
   "metadata": {},
   "outputs": [
    {
     "data": {
      "text/plain": [
       "0.5705240653437124"
      ]
     },
     "execution_count": 110,
     "metadata": {},
     "output_type": "execute_result"
    }
   ],
   "source": [
    "lrr.score(xtrain,ytrain)"
   ]
  },
  {
   "cell_type": "code",
   "execution_count": 111,
   "metadata": {},
   "outputs": [
    {
     "data": {
      "text/plain": [
       "0.5694478198027654"
      ]
     },
     "execution_count": 111,
     "metadata": {},
     "output_type": "execute_result"
    }
   ],
   "source": [
    "lrr.score(xtest,ytest)"
   ]
  },
  {
   "cell_type": "code",
   "execution_count": 112,
   "metadata": {},
   "outputs": [
    {
     "name": "stderr",
     "output_type": "stream",
     "text": [
      "C:\\Users\\Navika\\Anaconda3\\lib\\site-packages\\sklearn\\ensemble\\forest.py:245: FutureWarning: The default value of n_estimators will change from 10 in version 0.20 to 100 in 0.22.\n",
      "  \"10 in version 0.20 to 100 in 0.22.\", FutureWarning)\n"
     ]
    }
   ],
   "source": [
    "from sklearn.ensemble import RandomForestClassifier\n",
    "rf = RandomForestClassifier()\n",
    "pred_rf = rf.fit(xtrain,ytrain).predict(xtest)"
   ]
  },
  {
   "cell_type": "code",
   "execution_count": 113,
   "metadata": {},
   "outputs": [
    {
     "data": {
      "text/plain": [
       "0.7000038372494596"
      ]
     },
     "execution_count": 113,
     "metadata": {},
     "output_type": "execute_result"
    }
   ],
   "source": [
    "accuracy_score(pred_rf,ytest)"
   ]
  },
  {
   "cell_type": "code",
   "execution_count": 114,
   "metadata": {},
   "outputs": [
    {
     "name": "stderr",
     "output_type": "stream",
     "text": [
      "C:\\Users\\Navika\\Anaconda3\\lib\\site-packages\\sklearn\\ensemble\\forest.py:245: FutureWarning: The default value of n_estimators will change from 10 in version 0.20 to 100 in 0.22.\n",
      "  \"10 in version 0.20 to 100 in 0.22.\", FutureWarning)\n"
     ]
    }
   ],
   "source": [
    "from sklearn.ensemble import RandomForestClassifier\n",
    "rf = RandomForestClassifier()\n",
    "pred_ac = rf.fit(xtrain,ytrain).predict(newtest)"
   ]
  },
  {
   "cell_type": "raw",
   "metadata": {},
   "source": [
    "Model agian improved when we didn't change geo_level_id or didnt remove it from the model"
   ]
  },
  {
   "cell_type": "code",
   "execution_count": 115,
   "metadata": {},
   "outputs": [
    {
     "data": {
      "text/plain": [
       "0.8819537331432957"
      ]
     },
     "execution_count": 115,
     "metadata": {},
     "output_type": "execute_result"
    }
   ],
   "source": [
    "rf.score(xtrain,ytrain)#Overfiiting model\n",
    "# but we note a less overfitting model when we remove the irrelevant features"
   ]
  },
  {
   "cell_type": "code",
   "execution_count": 116,
   "metadata": {},
   "outputs": [
    {
     "data": {
      "text/plain": [
       "0.7001445363963111"
      ]
     },
     "execution_count": 116,
     "metadata": {},
     "output_type": "execute_result"
    }
   ],
   "source": [
    "rf.score(xtest,ytest)"
   ]
  },
  {
   "cell_type": "code",
   "execution_count": 117,
   "metadata": {},
   "outputs": [],
   "source": [
    "from sklearn.ensemble import GradientBoostingClassifier\n",
    "gbc = GradientBoostingClassifier()\n",
    "pred_gbm = gbc.fit(xtrain,ytrain).predict(xtest)"
   ]
  },
  {
   "cell_type": "code",
   "execution_count": 118,
   "metadata": {},
   "outputs": [
    {
     "data": {
      "text/plain": [
       "0.6800373492280734"
      ]
     },
     "execution_count": 118,
     "metadata": {},
     "output_type": "execute_result"
    }
   ],
   "source": [
    "accuracy_score(pred_gbm,ytest)"
   ]
  },
  {
   "cell_type": "raw",
   "metadata": {},
   "source": [
    "So we get the simple cross validation score as 0.70. "
   ]
  },
  {
   "cell_type": "code",
   "execution_count": 119,
   "metadata": {},
   "outputs": [],
   "source": [
    "from sklearn.metrics import precision_score, recall_score, f1_score, roc_auc_score, accuracy_score, classification_report"
   ]
  },
  {
   "cell_type": "code",
   "execution_count": 120,
   "metadata": {},
   "outputs": [],
   "source": [
    "from sklearn.metrics import confusion_matrix"
   ]
  },
  {
   "cell_type": "code",
   "execution_count": 121,
   "metadata": {},
   "outputs": [
    {
     "data": {
      "image/png": "[encoded data removed]",
      "text/plain": [
       "<Figure size 576x360 with 2 Axes>"
      ]
     },
     "metadata": {
      "needs_background": "light"
     },
     "output_type": "display_data"
    }
   ],
   "source": [
    "cm=confusion_matrix(ytest,pred_rf)\n",
    "conf_matrix=pd.DataFrame(data=cm,columns=['Predicted:1','Predicted:2','Predicted:3'],\n",
    "                                         index=['Actual:1','Actual:2','Actual:3'])\n",
    "                                                                            \n",
    "plt.figure(figsize = (8,5))\n",
    "sns.heatmap(conf_matrix, annot=True,fmt='d',cmap=\"YlGnBu\")\n",
    "plt.title(\"confusion Matrix for  Random Forest\")\n",
    "plt.xticks(rotation=45)\n",
    "plt.yticks(rotation=360)\n",
    "plt.show()"
   ]
  },
  {
   "cell_type": "code",
   "execution_count": 122,
   "metadata": {},
   "outputs": [
    {
     "data": {
      "text/plain": [
       "0.7000038372494596"
      ]
     },
     "execution_count": 122,
     "metadata": {},
     "output_type": "execute_result"
    }
   ],
   "source": [
    "f1_score(ytest, pred_rf,average='micro')"
   ]
  },
  {
   "cell_type": "code",
   "execution_count": 123,
   "metadata": {},
   "outputs": [
    {
     "data": {
      "text/plain": [
       "<matplotlib.axes._subplots.AxesSubplot at 0x1cd90d639e8>"
      ]
     },
     "execution_count": 123,
     "metadata": {},
     "output_type": "execute_result"
    },
    {
     "data": {
      "image/png": "[encoded data removed]",
      "text/plain": [
       "<Figure size 1440x576 with 1 Axes>"
      ]
     },
     "metadata": {
      "needs_background": "light"
     },
     "output_type": "display_data"
    }
   ],
   "source": [
    "plt.figure(figsize=(20,8))\n",
    "sns.barplot(x=rf.feature_importances_,y=x.columns)"
   ]
  },
  {
   "cell_type": "code",
   "execution_count": 124,
   "metadata": {},
   "outputs": [
    {
     "name": "stdout",
     "output_type": "stream",
     "text": [
      "[0.86705036 0.86640958 0.86294825 0.86835895 0.86271801]\n",
      "Accuracy of Model with Cross Validation is: 86.54970297554027\n"
     ]
    }
   ],
   "source": [
    "from sklearn.model_selection import cross_val_score\n",
    "accuracy = cross_val_score(rf, newtest, pred_ac, scoring='accuracy', cv = 5)\n",
    "print(accuracy)\n",
    "#get the mean of each fold \n",
    "print(\"Accuracy of Model with Cross Validation is:\",accuracy.mean() * 100)"
   ]
  },
  {
   "cell_type": "code",
   "execution_count": 125,
   "metadata": {},
   "outputs": [
    {
     "name": "stdout",
     "output_type": "stream",
     "text": [
      "[0.70106099 0.69960285 0.70259588 0.70266692 0.70467017]\n",
      "Accuracy of Model with Cross Validation is: 70.2119363317807\n"
     ]
    }
   ],
   "source": [
    "from sklearn.model_selection import cross_val_score\n",
    "accuracy = cross_val_score(rf, x, y, scoring='accuracy', cv = 5)\n",
    "print(accuracy)\n",
    "#get the mean of each fold \n",
    "print(\"Accuracy of Model with Cross Validation is:\",accuracy.mean() * 100)"
   ]
  },
  {
   "cell_type": "code",
   "execution_count": 126,
   "metadata": {},
   "outputs": [
    {
     "name": "stdout",
     "output_type": "stream",
     "text": [
      "[0.69804029 0.69704528 0.69699046 0.70233527 0.69383   ]\n",
      "Accuracy of Model with Cross Validation is: 69.76482610991803\n"
     ]
    }
   ],
   "source": [
    "from sklearn.model_selection import cross_val_score\n",
    "accuracy = cross_val_score(rf, xtrain, ytrain, scoring='accuracy', cv = 5)\n",
    "print(accuracy)\n",
    "#get the mean of each fold \n",
    "print(\"Accuracy of Model with Cross Validation is:\",accuracy.mean() * 100)"
   ]
  },
  {
   "cell_type": "code",
   "execution_count": 127,
   "metadata": {},
   "outputs": [],
   "source": [
    "#-------------Lets do PCA"
   ]
  },
  {
   "cell_type": "code",
   "execution_count": 128,
   "metadata": {},
   "outputs": [],
   "source": [
    "#Pca didnt do any imporvement to the accuracy score"
   ]
  },
  {
   "cell_type": "code",
   "execution_count": 129,
   "metadata": {},
   "outputs": [],
   "source": [
    "#--------CROSS VALIDATION AND HYPER- PARAMTER TUNING FOR OVERFITTING---------"
   ]
  },
  {
   "cell_type": "code",
   "execution_count": 130,
   "metadata": {},
   "outputs": [
    {
     "data": {
      "text/plain": [
       "'pred_hyp = best_random.predict(testdummy)'"
      ]
     },
     "execution_count": 130,
     "metadata": {},
     "output_type": "execute_result"
    }
   ],
   "source": [
    "'''random_grid = {'bootstrap': [True, False],\n",
    " 'max_depth': [10, 20, 30, 40, 50, 60, 70, 80, 90, 100, None],\n",
    " 'max_features': ['auto', 'sqrt'],\n",
    " 'min_samples_leaf': [1, 2, 4],\n",
    " 'min_samples_split': [2, 5, 10],\n",
    " 'n_estimators': [200, 400, 600, 800, 1000, 1200, 1400, 1600, 1800, 2000]}'''\n",
    "'''from sklearn.model_selection import RandomizedSearchCV\n",
    "rf_random = RandomizedSearchCV(estimator = rf, param_distributions = random_grid, n_iter = 100, cv = 3, verbose=2, random_state=123, n_jobs = -1)'''\n",
    "'''rf_random.fit(xtrain,ytrain )'''\n",
    "'''rf_random.best_params_'''\n",
    "'''def evaluate(model, test_features, test_labels):\n",
    "    predictions = model.predict(test_features)\n",
    "    errors = abs(predictions - test_labels)\n",
    "    mape = 100 * np.mean(errors / test_labels)\n",
    "    accuracy = 100 - mape\n",
    "    print('Model Performance')\n",
    "    print('Average Error: {:0.4f} degrees.'.format(np.mean(errors)))\n",
    "    print('Accuracy = {:0.2f}%.'.format(accuracy))\n",
    "    \n",
    "    return accuracy'''\n",
    "'''best_random = rf_random.best_estimator_\n",
    "random_accuracy = evaluate(best_random, xtrain,ytrain)'''\n",
    "'''pred_hyp = best_random.predict(testdummy)'''"
   ]
  },
  {
   "cell_type": "code",
   "execution_count": 131,
   "metadata": {},
   "outputs": [
    {
     "data": {
      "text/plain": [
       "'forestVC = RandomForestClassifier(random_state = 1,\\n                                  n_estimators = 750,\\n                                  max_depth = 15, \\n                                  min_samples_split = 5,  min_samples_leaf = 1) \\nmodelVC = forestVC.fit(xtrain, ytrain) \\ny_predVC = modelVC.predict(newtest)'"
      ]
     },
     "execution_count": 131,
     "metadata": {},
     "output_type": "execute_result"
    }
   ],
   "source": [
    "'''forestVC = RandomForestClassifier(random_state = 1,\n",
    "                                  n_estimators = 750,\n",
    "                                  max_depth = 15, \n",
    "                                  min_samples_split = 5,  min_samples_leaf = 1) \n",
    "modelVC = forestVC.fit(xtrain, ytrain) \n",
    "y_predVC = modelVC.predict(newtest)'''"
   ]
  },
  {
   "cell_type": "code",
   "execution_count": 132,
   "metadata": {},
   "outputs": [
    {
     "data": {
      "text/plain": [
       "\"def evaluate(model, test_features, test_labels):\\n    predictions = model.predict(test_features)\\n    errors = abs(predictions - test_labels)\\n    mape = 100 * np.mean(errors / test_labels)\\n    accuracy = 100 - mape\\n    print('Model Performance')\\n    print('Average Error: {:0.4f} degrees.'.format(np.mean(errors)))\\n    print('Accuracy = {:0.2f}%.'.format(accuracy))\\n    \\n    return accuracy\\n\\nrandom_accuracy = evaluate(forestVC, newtest, y_predVC)\""
      ]
     },
     "execution_count": 132,
     "metadata": {},
     "output_type": "execute_result"
    }
   ],
   "source": [
    "'''def evaluate(model, test_features, test_labels):\n",
    "    predictions = model.predict(test_features)\n",
    "    errors = abs(predictions - test_labels)\n",
    "    mape = 100 * np.mean(errors / test_labels)\n",
    "    accuracy = 100 - mape\n",
    "    print('Model Performance')\n",
    "    print('Average Error: {:0.4f} degrees.'.format(np.mean(errors)))\n",
    "    print('Accuracy = {:0.2f}%.'.format(accuracy))\n",
    "    \n",
    "    return accuracy\n",
    "\n",
    "random_accuracy = evaluate(forestVC, newtest, y_predVC)'''"
   ]
  },
  {
   "cell_type": "raw",
   "metadata": {},
   "source": [
    "We used RandomizedSearchCV to increase the accuracy of the model by continuously tuning the model parameters, but it takes a lot of time. keep tuning the model till you get the accuracy score just equal to the training score."
   ]
  },
  {
   "cell_type": "raw",
   "metadata": {},
   "source": [
    "Model accuarcy increased but the precision score remained the same."
   ]
  },
  {
   "cell_type": "code",
   "execution_count": null,
   "metadata": {},
   "outputs": [],
   "source": [
    "#SUBMISSIOn"
   ]
  },
  {
   "cell_type": "code",
   "execution_count": 134,
   "metadata": {},
   "outputs": [],
   "source": [
    "pred_ac = pred_ac.astype('int32')"
   ]
  },
  {
   "cell_type": "code",
   "execution_count": 135,
   "metadata": {},
   "outputs": [
    {
     "data": {
      "text/plain": [
       "array([2, 2, 2, ..., 3, 2, 1])"
      ]
     },
     "execution_count": 135,
     "metadata": {},
     "output_type": "execute_result"
    }
   ],
   "source": [
    "pred_ac"
   ]
  },
  {
   "cell_type": "code",
   "execution_count": 136,
   "metadata": {},
   "outputs": [],
   "source": [
    "#with hyper parameter tuning, i get a score of 0.68, and without: 0.69755"
   ]
  },
  {
   "cell_type": "code",
   "execution_count": 137,
   "metadata": {},
   "outputs": [],
   "source": [
    "solution = pd.DataFrame({\"building_id\":test.building_id,\n",
    "                        \"damage_grade\":pred_ac})"
   ]
  },
  {
   "cell_type": "code",
   "execution_count": 138,
   "metadata": {},
   "outputs": [],
   "source": [
    "solution.to_csv(\"EarthQuake damage grade Prediction.csv\", index = False)"
   ]
  },
  {
   "cell_type": "code",
   "execution_count": 139,
   "metadata": {},
   "outputs": [
    {
     "name": "stdout",
     "output_type": "stream",
     "text": [
      "C:\\Users\\Navika\n"
     ]
    }
   ],
   "source": [
    "cd"
   ]
  },
  {
   "cell_type": "code",
   "execution_count": null,
   "metadata": {},
   "outputs": [],
   "source": []
  },
  {
   "cell_type": "code",
   "execution_count": null,
   "metadata": {},
   "outputs": [],
   "source": []
  }
 ],
 "metadata": {
  "kernelspec": {
   "display_name": "Python 3",
   "language": "python",
   "name": "python3"
  },
  "language_info": {
   "codemirror_mode": {
    "name": "ipython",
    "version": 3
   },
   "file_extension": ".py",
   "mimetype": "text/x-python",
   "name": "python",
   "nbconvert_exporter": "python",
   "pygments_lexer": "ipython3",
   "version": "3.7.3"
  }
 },
 "nbformat": 4,
 "nbformat_minor": 2
}
